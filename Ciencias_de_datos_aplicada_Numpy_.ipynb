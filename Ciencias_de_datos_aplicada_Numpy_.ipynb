{
  "nbformat": 4,
  "nbformat_minor": 0,
  "metadata": {
    "colab": {
      "name": "Ciencias de datos aplicada-Numpy .ipynb",
      "provenance": [],
      "authorship_tag": "ABX9TyNKGPETq52p8xaUB8Dp8L3l",
      "include_colab_link": true
    },
    "kernelspec": {
      "name": "python3",
      "display_name": "Python 3"
    },
    "language_info": {
      "name": "python"
    }
  },
  "cells": [
    {
      "cell_type": "markdown",
      "metadata": {
        "id": "view-in-github",
        "colab_type": "text"
      },
      "source": [
        "<a href=\"https://colab.research.google.com/github/jpescobarn/Data-Science-with-Pyton/blob/main/Ciencias_de_datos_aplicada_Numpy_.ipynb\" target=\"_parent\"><img src=\"https://colab.research.google.com/assets/colab-badge.svg\" alt=\"Open In Colab\"/></a>"
      ]
    },
    {
      "cell_type": "markdown",
      "metadata": {
        "id": "WCuN3S_1dPZd"
      },
      "source": [
        "\n",
        "![Logo Michigan.PNG](data:image/png;base64,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)\n",
        "\n",
        "# University of Michigan\n",
        "# Juan Pablo Escobar Naranjo\n",
        "\n",
        "\n",
        "## Programa Especializado : Ciencias de los datos Aplicada con Python \n",
        "## Universidad Nacional de Colombia "
      ]
    },
    {
      "cell_type": "markdown",
      "metadata": {
        "id": "BWp9F78XdZK4"
      },
      "source": [
        "Numpy is the fundamental package for numeric computing with Python. It provides powerful ways to create,\n",
        "store, and/or manipulate data, which makes it able to seamlessly and speedily integrate with a wide variety\n",
        "of databases. This is also the foundation that Pandas is built on, which is a high-performance data-centric\n",
        "package that we will learn later in the course.\n",
        "\n",
        "In this lecture, we will talk about creating array with certain data types, manipulating array, selecting\n",
        "elements from arrays, and loading dataset into array. Such functions are useful for manipulating data and\n",
        "understanding the functionalities of other common Python data packages."
      ]
    },
    {
      "cell_type": "code",
      "metadata": {
        "id": "dK8bx_Vfap_c"
      },
      "source": [
        "import numpy as np \n",
        "import math"
      ],
      "execution_count": null,
      "outputs": []
    },
    {
      "cell_type": "code",
      "metadata": {
        "colab": {
          "base_uri": "https://localhost:8080/"
        },
        "id": "KW_W9wmodwYb",
        "outputId": "e6a3d1ab-6410-496d-bb1a-577892d9e895"
      },
      "source": [
        "a = np.array([10,11,12])\n",
        "print(a, a.ndim)           # matriz.ndim -> número de dimensiones de la matriz"
      ],
      "execution_count": null,
      "outputs": [
        {
          "output_type": "stream",
          "name": "stdout",
          "text": [
            "[10 11 12] 1\n"
          ]
        }
      ]
    },
    {
      "cell_type": "code",
      "metadata": {
        "colab": {
          "base_uri": "https://localhost:8080/"
        },
        "id": "irrwPS4JeBhk",
        "outputId": "3ed425a8-20e6-4435-e413-4edcbf48cbdf"
      },
      "source": [
        "b = np.array([[1,2,3],[4,5,6]])          \n",
        "print(b, b.ndim)                         # matriz.shape ->  longitud de cada dimensión\n",
        "print(b.shape)"
      ],
      "execution_count": null,
      "outputs": [
        {
          "output_type": "stream",
          "name": "stdout",
          "text": [
            "[[1 2 3]\n",
            " [4 5 6]] 2\n",
            "(2, 3)\n"
          ]
        }
      ]
    },
    {
      "cell_type": "code",
      "metadata": {
        "colab": {
          "base_uri": "https://localhost:8080/"
        },
        "id": "7IFcpz9Je5sz",
        "outputId": "cfccb22c-e5ba-41c3-ea95-341d943f6b98"
      },
      "source": [
        "b.dtype      #dtype -> tipo de elementos en la matriz "
      ],
      "execution_count": null,
      "outputs": [
        {
          "output_type": "execute_result",
          "data": {
            "text/plain": [
              "dtype('int64')"
            ]
          },
          "metadata": {},
          "execution_count": 134
        }
      ]
    },
    {
      "cell_type": "code",
      "metadata": {
        "colab": {
          "base_uri": "https://localhost:8080/"
        },
        "id": "1JknOPMVfSqw",
        "outputId": "31fd947b-06e7-4132-8800-2a9494815e37"
      },
      "source": [
        "c = np.array([1.2, 5.4, 6.4, 7])\n",
        "print(c, c.ndim)\n",
        "print(c.dtype)"
      ],
      "execution_count": null,
      "outputs": [
        {
          "output_type": "stream",
          "name": "stdout",
          "text": [
            "[1.2 5.4 6.4 7. ] 1\n",
            "float64\n"
          ]
        }
      ]
    },
    {
      "cell_type": "code",
      "metadata": {
        "colab": {
          "base_uri": "https://localhost:8080/"
        },
        "id": "nXMDAWw9fh8f",
        "outputId": "c1812a35-568f-4981-ad59-d81219e41f01"
      },
      "source": [
        "## Matrices predeterminadas \n",
        "\n",
        "d = np.zeros((2,3))\n",
        "e = np.ones((2,3))\n",
        "f = np.random.rand(2,3)\n",
        "print(d)\n",
        "print(e)\n",
        "print(f)"
      ],
      "execution_count": null,
      "outputs": [
        {
          "output_type": "stream",
          "name": "stdout",
          "text": [
            "[[0. 0. 0.]\n",
            " [0. 0. 0.]]\n",
            "[[1. 1. 1.]\n",
            " [1. 1. 1.]]\n",
            "[[0.18344222 0.11753467 0.76837998]\n",
            " [0.25442774 0.34531352 0.17981022]]\n"
          ]
        }
      ]
    },
    {
      "cell_type": "code",
      "metadata": {
        "colab": {
          "base_uri": "https://localhost:8080/"
        },
        "id": "bCxuqZs0gSw0",
        "outputId": "573a69c9-c5a4-438a-9773-514f13bdd758"
      },
      "source": [
        "g = np.arange(10,50,2)                 ## primer atributo -> primer número incluido \n",
        "print(g)                              ## segundo atributo -> último número sin incluir\n",
        "                                      ## tercer atributo -> pasos entre números"
      ],
      "execution_count": null,
      "outputs": [
        {
          "output_type": "stream",
          "name": "stdout",
          "text": [
            "[10 12 14 16 18 20 22 24 26 28 30 32 34 36 38 40 42 44 46 48]\n"
          ]
        }
      ]
    },
    {
      "cell_type": "code",
      "metadata": {
        "colab": {
          "base_uri": "https://localhost:8080/"
        },
        "id": "I1tVK3Z6g3NB",
        "outputId": "c32f8675-4613-4574-c08f-ed9940a01625"
      },
      "source": [
        "np.linspace(1,2,10)                   ## linspace -> Tercer atributo es cantidad de números a generar entre los primeros dos "
      ],
      "execution_count": null,
      "outputs": [
        {
          "output_type": "execute_result",
          "data": {
            "text/plain": [
              "array([1.        , 1.11111111, 1.22222222, 1.33333333, 1.44444444,\n",
              "       1.55555556, 1.66666667, 1.77777778, 1.88888889, 2.        ])"
            ]
          },
          "metadata": {},
          "execution_count": 138
        }
      ]
    },
    {
      "cell_type": "markdown",
      "metadata": {
        "id": "E4bZsHughALU"
      },
      "source": [
        "## Operaciones entre matrices"
      ]
    },
    {
      "cell_type": "code",
      "metadata": {
        "colab": {
          "base_uri": "https://localhost:8080/"
        },
        "id": "XTDtZL-2hB8n",
        "outputId": "d1ac7bf7-31fa-4bb9-9b37-146df18871e3"
      },
      "source": [
        "a = np.array([2,4,5,6])\n",
        "b = np.array([5,6,3,2])\n",
        "\n",
        "c = a + b \n",
        "d = a - b\n",
        "print (c)\n",
        "print (d)\n"
      ],
      "execution_count": null,
      "outputs": [
        {
          "output_type": "stream",
          "name": "stdout",
          "text": [
            "[ 7 10  8  8]\n",
            "[-3 -2  2  4]\n"
          ]
        }
      ]
    },
    {
      "cell_type": "code",
      "metadata": {
        "colab": {
          "base_uri": "https://localhost:8080/"
        },
        "id": "LH7dApeuhzfz",
        "outputId": "7b1c6796-0ed2-40a5-8b17-9ab13a11b388"
      },
      "source": [
        "## Por ejemplo para convertir valores en °farenheit a °Celsius \n",
        "\n",
        "# °F = ((°F − 32) × 5/9 = °C)\n",
        "\n",
        "farenheit = np.array([0, -10, -5, -15, 0])\n",
        "print(farenheit)\n",
        "\n",
        "celcius = ((farenheit - 32)*(5/9))\n",
        "print(celcius)"
      ],
      "execution_count": null,
      "outputs": [
        {
          "output_type": "stream",
          "name": "stdout",
          "text": [
            "[  0 -10  -5 -15   0]\n",
            "[-17.77777778 -23.33333333 -20.55555556 -26.11111111 -17.77777778]\n"
          ]
        }
      ]
    },
    {
      "cell_type": "code",
      "metadata": {
        "colab": {
          "base_uri": "https://localhost:8080/"
        },
        "id": "Q8Ca27MCij6A",
        "outputId": "2b6bcaa0-9554-4836-e4ec-34746dc124b8"
      },
      "source": [
        "## Matriz booleana \n",
        "\n",
        "print(celcius > -20)\n",
        "\n",
        "print(celcius % 2 == 0 )"
      ],
      "execution_count": null,
      "outputs": [
        {
          "output_type": "stream",
          "name": "stdout",
          "text": [
            "[ True False False False  True]\n",
            "[False False False False False]\n"
          ]
        }
      ]
    },
    {
      "cell_type": "code",
      "metadata": {
        "colab": {
          "base_uri": "https://localhost:8080/"
        },
        "id": "7RByAOFIj0Uq",
        "outputId": "466f3d14-cc72-4203-fecf-fcb2ef61f65f"
      },
      "source": [
        "## Producto \n",
        "\n",
        "A = np.array(([3,4],[1,3]))\n",
        "B = np.array (([3,1],[2,1]))\n",
        "print(A)\n",
        "print(B)\n",
        "\n",
        "print(A*B)              ## si queremos hacer un producto por elementos, usamos el signo \"*\" \n",
        "\n",
        "print(A@B)              ## si queremos hacer un producto matricial, usamos el signo \"@\" o usamos la función de punto\n"
      ],
      "execution_count": null,
      "outputs": [
        {
          "output_type": "stream",
          "name": "stdout",
          "text": [
            "[[3 4]\n",
            " [1 3]]\n",
            "[[3 1]\n",
            " [2 1]]\n",
            "[[9 4]\n",
            " [2 3]]\n",
            "[[17  7]\n",
            " [ 9  4]]\n"
          ]
        }
      ]
    },
    {
      "cell_type": "code",
      "metadata": {
        "colab": {
          "base_uri": "https://localhost:8080/"
        },
        "id": "nkXYUinbpJ7a",
        "outputId": "9ecf7a49-b52c-4ccc-bbb2-0d20ff8aacbc"
      },
      "source": [
        "C = np.array(([4,2,1], [3,7,2],[1,4,3]))\n",
        "D = np.array(([1,2,3], [2,3,1], [4,2,2]))\n",
        "E = C@D\n",
        "print(E)"
      ],
      "execution_count": null,
      "outputs": [
        {
          "output_type": "stream",
          "name": "stdout",
          "text": [
            "[[12 16 16]\n",
            " [25 31 20]\n",
            " [21 20 13]]\n"
          ]
        }
      ]
    },
    {
      "cell_type": "code",
      "metadata": {
        "colab": {
          "base_uri": "https://localhost:8080/"
        },
        "id": "gFRkzqxYrvdR",
        "outputId": "033224bd-1153-454c-f687-fadf031b0f14"
      },
      "source": [
        "F = np.array(([2,1],[1,2]))\n",
        "G = np.array(([3,2],[1,1],[4,2]))\n",
        "G@F"
      ],
      "execution_count": null,
      "outputs": [
        {
          "output_type": "execute_result",
          "data": {
            "text/plain": [
              "array([[ 8,  7],\n",
              "       [ 3,  3],\n",
              "       [10,  8]])"
            ]
          },
          "metadata": {},
          "execution_count": 144
        }
      ]
    },
    {
      "cell_type": "code",
      "metadata": {
        "colab": {
          "base_uri": "https://localhost:8080/"
        },
        "id": "5N0SLpmqt7YX",
        "outputId": "96e17c6c-0516-49be-bf85-cb5699d1223f"
      },
      "source": [
        "array1 = np.array([[1, 2, 3], [4, 5, 6]])\n",
        "print(array1.dtype)\n",
        "array2 = np.array([[7.1, 8.2, 9.1], [10.4, 11.2, 12.3]])\n",
        "print(array2.dtype)"
      ],
      "execution_count": null,
      "outputs": [
        {
          "output_type": "stream",
          "name": "stdout",
          "text": [
            "int64\n",
            "float64\n"
          ]
        }
      ]
    },
    {
      "cell_type": "code",
      "metadata": {
        "colab": {
          "base_uri": "https://localhost:8080/"
        },
        "id": "IsEa2LD_t_We",
        "outputId": "fdbad75e-4c3f-4632-afb4-74bf72c70758"
      },
      "source": [
        "array3=array1+array2\n",
        "print(array3)\n",
        "print(array3.dtype)"
      ],
      "execution_count": null,
      "outputs": [
        {
          "output_type": "stream",
          "name": "stdout",
          "text": [
            "[[ 8.1 10.2 12.1]\n",
            " [14.4 16.2 18.3]]\n",
            "float64\n"
          ]
        }
      ]
    },
    {
      "cell_type": "code",
      "metadata": {
        "colab": {
          "base_uri": "https://localhost:8080/"
        },
        "id": "w1Ru9nm1uK9L",
        "outputId": "75d9d07a-c8a2-4cd1-d9c5-0d3a9dd575c5"
      },
      "source": [
        "## Otro tipo de funciones en las matrices en Np\n",
        "\n",
        "print(array3.sum())            ## Suma de los elementos \n",
        "print(array3.max())            ## Máximo \n",
        "print(array3.min())            ## Mínimo \n",
        "print(array3.mean())           ## Media \n",
        "\n"
      ],
      "execution_count": null,
      "outputs": [
        {
          "output_type": "stream",
          "name": "stdout",
          "text": [
            "79.3\n",
            "18.3\n",
            "8.1\n",
            "13.216666666666667\n"
          ]
        }
      ]
    },
    {
      "cell_type": "code",
      "metadata": {
        "colab": {
          "base_uri": "https://localhost:8080/"
        },
        "id": "yvsrfr-Buk_c",
        "outputId": "e318e280-08ec-46c3-d1fb-38c41bec58a0"
      },
      "source": [
        "## .reshape(x,y)  para organizar las dimensiones de la matriz \n",
        "\n",
        "## Matriz de 1 a 15, formulada en dimensiones 3x5\n",
        "\n",
        "array4 = np.arange(1,16,1).reshape(3,5)\n",
        "array4"
      ],
      "execution_count": null,
      "outputs": [
        {
          "output_type": "execute_result",
          "data": {
            "text/plain": [
              "array([[ 1,  2,  3,  4,  5],\n",
              "       [ 6,  7,  8,  9, 10],\n",
              "       [11, 12, 13, 14, 15]])"
            ]
          },
          "metadata": {},
          "execution_count": 148
        }
      ]
    },
    {
      "cell_type": "code",
      "metadata": {
        "colab": {
          "base_uri": "https://localhost:8080/"
        },
        "id": "J-ChY2uovZgs",
        "outputId": "12dc5b64-a5e6-401f-a780-6219a0fa1e25"
      },
      "source": [
        "## biblioteca de imágenes de Python (PIL) y una función para mostrar imágenes en el Cuaderno de Jupyter\n",
        "from PIL import Image\n",
        "from IPython.display import display\n",
        "\n",
        "im = Image.open('descarga.png')\n",
        "display(im)"
      ],
      "execution_count": null,
      "outputs": [
        {
          "output_type": "display_data",
          "data": {
            "image/png": "[encoded data removed]",
            "text/plain": [
              "<PIL.PngImagePlugin.PngImageFile image mode=L size=200x200 at 0x7FCBBC43B690>"
            ]
          },
          "metadata": {}
        }
      ]
    },
    {
      "cell_type": "code",
      "metadata": {
        "colab": {
          "base_uri": "https://localhost:8080/"
        },
        "id": "WDZtAuvkwAuI",
        "outputId": "249fd4cb-028d-4f71-f5bd-63ca72acbdae"
      },
      "source": [
        "IM = np.array(im)\n",
        "print(IM)\n",
        "print(IM.shape)\n",
        "print(IM.dtype)\n",
        "\n"
      ],
      "execution_count": null,
      "outputs": [
        {
          "output_type": "stream",
          "name": "stdout",
          "text": [
            "[[118 117 118 ... 103 107 110]\n",
            " [113 113 113 ... 100 103 106]\n",
            " [108 108 107 ...  95  98 102]\n",
            " ...\n",
            " [177 181 182 ... 193 198 192]\n",
            " [178 182 183 ... 193 201 189]\n",
            " [178 182 184 ... 193 201 187]]\n",
            "(200, 200)\n",
            "uint8\n"
          ]
        }
      ]
    },
    {
      "cell_type": "code",
      "metadata": {
        "id": "4hcJcO3zx1Os"
      },
      "source": [
        "## uint = enteros sin signo \n",
        "## 8 = 8 Bits por byte \n",
        "\n",
        "# Aquí vemos que tenemos una matriz de 200x200 y que los valores son todos uint8. enteros sin signo porque no hay \n",
        "# números negativos y el 8 significa 8 bits por byte. Esto significa que cada valor puede  tener un tamaño de hasta \n",
        "# 2 * 2 * 2 * 2 * 2 * 2 * 2 * 2 = 256, de 0 a 255. En blanco y negro, el negro se almacena como 0 y el blanco como 255\n"
      ],
      "execution_count": null,
      "outputs": []
    },
    {
      "cell_type": "code",
      "metadata": {
        "colab": {
          "base_uri": "https://localhost:8080/"
        },
        "id": "QNDPfsSCzLII",
        "outputId": "891d2d07-4ccd-4e86-a4bc-c1f6ff68a7ac"
      },
      "source": [
        "## Para invertir, por ejemplo\n",
        "\n",
        "mascara=np.full(IM.shape,255)       ## Crear matriz de mismas dimensiones a IM, llena de 255\n",
        "print(mascara)"
      ],
      "execution_count": null,
      "outputs": [
        {
          "output_type": "stream",
          "name": "stdout",
          "text": [
            "[[255 255 255 ... 255 255 255]\n",
            " [255 255 255 ... 255 255 255]\n",
            " [255 255 255 ... 255 255 255]\n",
            " ...\n",
            " [255 255 255 ... 255 255 255]\n",
            " [255 255 255 ... 255 255 255]\n",
            " [255 255 255 ... 255 255 255]]\n"
          ]
        }
      ]
    },
    {
      "cell_type": "code",
      "metadata": {
        "colab": {
          "base_uri": "https://localhost:8080/"
        },
        "id": "r-0hxwAP0Y3o",
        "outputId": "329e693a-f7ea-4ea9-9156-74034c2f5a41"
      },
      "source": [
        "## Restemos la máscara de la matriz, para hacer una matriz modificada \n",
        "\n",
        "matriz_mod = IM - mascara\n",
        "print(matriz_mod)\n",
        "\n"
      ],
      "execution_count": null,
      "outputs": [
        {
          "output_type": "stream",
          "name": "stdout",
          "text": [
            "[[-137 -138 -137 ... -152 -148 -145]\n",
            " [-142 -142 -142 ... -155 -152 -149]\n",
            " [-147 -147 -148 ... -160 -157 -153]\n",
            " ...\n",
            " [ -78  -74  -73 ...  -62  -57  -63]\n",
            " [ -77  -73  -72 ...  -62  -54  -66]\n",
            " [ -77  -73  -71 ...  -62  -54  -68]]\n"
          ]
        }
      ]
    },
    {
      "cell_type": "code",
      "metadata": {
        "colab": {
          "base_uri": "https://localhost:8080/"
        },
        "id": "Hoo71Fig2r6K",
        "outputId": "7c2e3cef-4507-47b9-e137-6e1ef3ebfe0b"
      },
      "source": [
        "matriz_mod = matriz_mod * -1  # todos los valores negativos en valores positivos.\n",
        "\n",
        "                               #Y como último paso, digamos a numpy que establezca el valor del tipo de datos correctamente\n",
        "\n",
        "matriz_mod = matriz_mod.astype(np.uint8)\n",
        "matriz_mod"
      ],
      "execution_count": null,
      "outputs": [
        {
          "output_type": "execute_result",
          "data": {
            "text/plain": [
              "array([[137, 138, 137, ..., 152, 148, 145],\n",
              "       [142, 142, 142, ..., 155, 152, 149],\n",
              "       [147, 147, 148, ..., 160, 157, 153],\n",
              "       ...,\n",
              "       [ 78,  74,  73, ...,  62,  57,  63],\n",
              "       [ 77,  73,  72, ...,  62,  54,  66],\n",
              "       [ 77,  73,  71, ...,  62,  54,  68]], dtype=uint8)"
            ]
          },
          "metadata": {},
          "execution_count": 154
        }
      ]
    },
    {
      "cell_type": "code",
      "metadata": {
        "colab": {
          "base_uri": "https://localhost:8080/"
        },
        "id": "-KT3AyU13rie",
        "outputId": "401c31c8-5ff9-4150-c6f3-086e8dcd0eef"
      },
      "source": [
        "display(Image.fromarray(matriz_mod))"
      ],
      "execution_count": null,
      "outputs": [
        {
          "output_type": "display_data",
          "data": {
            "image/png": "[encoded data removed]",
            "text/plain": [
              "<PIL.Image.Image image mode=L size=200x200 at 0x7FCBBC2E70D0>"
            ]
          },
          "metadata": {}
        }
      ]
    },
    {
      "cell_type": "code",
      "metadata": {
        "colab": {
          "base_uri": "https://localhost:8080/"
        },
        "id": "TKgaJ8kxSelG",
        "outputId": "0a6e23a2-768e-45a1-96c3-21e60d181de5"
      },
      "source": [
        "# Bueno, podríamos decidir remodelar la matriz y aún así intente renderizarlo. PIL está interpretando las filas individuales como líneas,\n",
        "# por lo que podemos cambiar el número de líneas  y columnas si queremos. ¿Cómo crees que se vería eso?\n",
        "\n",
        "matriz_mod2= np.reshape(matriz_mod,(100,400))\n",
        "print(matriz_mod2.shape)\n",
        "matriz_mod2\n",
        "display(Image.fromarray(matriz_mod2))"
      ],
      "execution_count": null,
      "outputs": [
        {
          "output_type": "stream",
          "name": "stdout",
          "text": [
            "(100, 400)\n"
          ]
        },
        {
          "output_type": "display_data",
          "data": {
            "image/png": "[encoded data removed]",
            "text/plain": [
              "<PIL.Image.Image image mode=L size=400x100 at 0x7FCBBC2E7450>"
            ]
          },
          "metadata": {}
        }
      ]
    },
    {
      "cell_type": "markdown",
      "metadata": {
        "id": "4bTdPhuMUCI-"
      },
      "source": [
        "## Indexación, corte e iteración"
      ]
    },
    {
      "cell_type": "markdown",
      "metadata": {
        "id": "zvqPTNzjUSy4"
      },
      "source": [
        "### Indexación"
      ]
    },
    {
      "cell_type": "code",
      "metadata": {
        "colab": {
          "base_uri": "https://localhost:8080/"
        },
        "id": "Ho7xQaBQUFf9",
        "outputId": "cccdba52-535e-4bde-8227-5e1989763d5c"
      },
      "source": [
        "A = np.array([1,2,3,4,5])\n",
        "print(A)\n",
        "print(A[3])"
      ],
      "execution_count": null,
      "outputs": [
        {
          "output_type": "stream",
          "name": "stdout",
          "text": [
            "[1 2 3 4 5]\n",
            "4\n"
          ]
        }
      ]
    },
    {
      "cell_type": "code",
      "metadata": {
        "colab": {
          "base_uri": "https://localhost:8080/"
        },
        "id": "lUtrhk1YUua5",
        "outputId": "29e2fe88-703e-4972-a848-a7d8dcc9386f"
      },
      "source": [
        "B = np.array(([1,2,3],[4,5,6],[7,8,9]))\n",
        "print(B)\n",
        "print(B[2,1])"
      ],
      "execution_count": null,
      "outputs": [
        {
          "output_type": "stream",
          "name": "stdout",
          "text": [
            "[[1 2 3]\n",
            " [4 5 6]\n",
            " [7 8 9]]\n",
            "8\n"
          ]
        }
      ]
    },
    {
      "cell_type": "code",
      "metadata": {
        "colab": {
          "base_uri": "https://localhost:8080/"
        },
        "id": "7rhjyJ7aVih3",
        "outputId": "bbc85d7c-d186-4f7d-c9e6-772a1437e8c4"
      },
      "source": [
        "array = np.array((B[0,0], B[0,1], B[1,1]))\n",
        "array"
      ],
      "execution_count": null,
      "outputs": [
        {
          "output_type": "execute_result",
          "data": {
            "text/plain": [
              "array([1, 2, 5])"
            ]
          },
          "metadata": {},
          "execution_count": 159
        }
      ]
    },
    {
      "cell_type": "code",
      "metadata": {
        "colab": {
          "base_uri": "https://localhost:8080/"
        },
        "id": "NNiqs4BPWm0l",
        "outputId": "f6f4749f-5fc4-4279-f239-828a3b63cb15"
      },
      "source": [
        "print(B[[0, 0, 1], [0, 1, 1]])"
      ],
      "execution_count": null,
      "outputs": [
        {
          "output_type": "stream",
          "name": "stdout",
          "text": [
            "[1 2 5]\n"
          ]
        }
      ]
    },
    {
      "cell_type": "markdown",
      "metadata": {
        "id": "TaNeLRb-XowA"
      },
      "source": [
        "#### Indexación Booleana \n",
        "\n",
        "La indexación booleana nos permite seleccionar elementos arbitrarios según las condiciones.\n"
      ]
    },
    {
      "cell_type": "code",
      "metadata": {
        "colab": {
          "base_uri": "https://localhost:8080/"
        },
        "id": "HW_dM36wmDZo",
        "outputId": "a36fe637-ea3a-48a1-ea7e-2770266056cd"
      },
      "source": [
        "print(B > 5)"
      ],
      "execution_count": null,
      "outputs": [
        {
          "output_type": "stream",
          "name": "stdout",
          "text": [
            "[[False False False]\n",
            " [False False  True]\n",
            " [ True  True  True]]\n"
          ]
        }
      ]
    },
    {
      "cell_type": "code",
      "metadata": {
        "colab": {
          "base_uri": "https://localhost:8080/"
        },
        "id": "lSsofKUkmd-k",
        "outputId": "7eaaee44-951f-4740-f351-3982290120eb"
      },
      "source": [
        "# colocar esta matriz de valores booleanos como una máscara sobre la matriz original para devolver un\n",
        "# matriz relacionada con los valores verdaderos.\n",
        "\n",
        "print(B[B>5])"
      ],
      "execution_count": null,
      "outputs": [
        {
          "output_type": "stream",
          "name": "stdout",
          "text": [
            "[6 7 8 9]\n"
          ]
        }
      ]
    },
    {
      "cell_type": "markdown",
      "metadata": {
        "id": "ulRPsJjrm41g"
      },
      "source": [
        "### Corte\n",
        "\n",
        "Cortar es una forma de crear una submatriz basada en la matriz original."
      ]
    },
    {
      "cell_type": "code",
      "metadata": {
        "colab": {
          "base_uri": "https://localhost:8080/"
        },
        "id": "_H1xJUvcnYBm",
        "outputId": "aac9e3fc-90ee-4783-e5c2-ab2d02518540"
      },
      "source": [
        "a = np.array([1,2,3,4,5,6])\n",
        "print(a[:3])\n",
        "print(a[2:5])"
      ],
      "execution_count": null,
      "outputs": [
        {
          "output_type": "stream",
          "name": "stdout",
          "text": [
            "[1 2 3]\n",
            "[3 4 5]\n"
          ]
        }
      ]
    },
    {
      "cell_type": "code",
      "metadata": {
        "colab": {
          "base_uri": "https://localhost:8080/"
        },
        "id": "Refh4tiQoDR-",
        "outputId": "745beb64-42e7-496b-d043-b1eba9c1b078"
      },
      "source": [
        "## Para matrices multidimensionales\n",
        "\n",
        "# en matrices multidimensionales, el primer argumento es para seleccionar filas y el segundo argumento es para\n",
        "# seleccionar columnas\n",
        "\n",
        "a = np.array(([1,2,3,4],[3,4,5,6],[6,7,8,1]))\n",
        "print(a)\n",
        "print(a[0:2])   ## Con un sólo argumento, imprime las filas seleccionadas\n",
        "\n",
        "print(a[0:2, 1:3])    ## Con dos, filas y columnas seleccionadas"
      ],
      "execution_count": null,
      "outputs": [
        {
          "output_type": "stream",
          "name": "stdout",
          "text": [
            "[[1 2 3 4]\n",
            " [3 4 5 6]\n",
            " [6 7 8 1]]\n",
            "[[1 2 3 4]\n",
            " [3 4 5 6]]\n",
            "[[2 3]\n",
            " [4 5]]\n"
          ]
        }
      ]
    },
    {
      "cell_type": "code",
      "metadata": {
        "colab": {
          "base_uri": "https://localhost:8080/"
        },
        "id": "5zNwqOt3plEu",
        "outputId": "1300f626-bc83-4162-9861-99d36240a812"
      },
      "source": [
        "# Es importante darse cuenta de que una porción de una matriz es una vista de los mismos datos. \n",
        "# A esto se le llama pasar por referencia, Por lo tanto, modificar la submatriz modificará en \n",
        "# consecuencia la matriz original\n",
        "\n",
        "sub_array = a[0:2, 1:3]\n",
        "print(sub_array)\n",
        "print('La sub matriz antes del cambio en la posición [0,0] es:', sub_array[0,0])\n",
        "print('La matriz original antes del cambio en la posición [0,1] es:', a[0,1])\n",
        "sub_array[0,0] = 50\n",
        "print(sub_array)\n",
        "print('La sub matriz después del cambio en la posición [0,0] es:', sub_array[0,0])\n",
        "print('La matriz original después del cambio en la posición [0,1] es:', a[0,1])"
      ],
      "execution_count": null,
      "outputs": [
        {
          "output_type": "stream",
          "name": "stdout",
          "text": [
            "[[2 3]\n",
            " [4 5]]\n",
            "La sub matriz antes del cambio en la posición [0,0] es: 2\n",
            "La matriz original antes del cambio en la posición [0,1] es: 2\n",
            "[[50  3]\n",
            " [ 4  5]]\n",
            "La sub matriz después del cambio en la posición [0,0] es: 50\n",
            "La matriz original después del cambio en la posición [0,1] es: 50\n"
          ]
        }
      ]
    },
    {
      "cell_type": "markdown",
      "metadata": {
        "id": "Gy10QyQdr_Mk"
      },
      "source": [
        "## Tratamiento a Dataseets con NumpPy"
      ]
    },
    {
      "cell_type": "code",
      "metadata": {
        "colab": {
          "base_uri": "https://localhost:8080/"
        },
        "id": "kraU70PquCSx",
        "outputId": "bdbe2f1d-8cf5-4e27-ef22-c038ceb717bb"
      },
      "source": [
        "## Para cargar un conjunto de datos en Numpy, podemos usar la función genfromtxt (). Podemos especificar el \n",
        "# nombre del archivo de datos,  delimitador , y el número de filas para omitir si tenemos una fila de encabezado.\n",
        "#La función genfromtxt () tiene un parámetro llamado dtype para especificar los tipos de datos de cada columna. El\n",
        "# parámetro es opcional. Sin especificar los tipos, todos los tipos se lanzarán de la misma manera de la forma más \n",
        "# general o precisa\n",
        "\n",
        "wines = np.genfromtxt(\"winequality-red.csv\", delimiter=\";\", skip_header=1)\n",
        "wines"
      ],
      "execution_count": null,
      "outputs": [
        {
          "output_type": "execute_result",
          "data": {
            "text/plain": [
              "array([[ 7.4  ,  0.7  ,  0.   , ...,  0.56 ,  9.4  ,  5.   ],\n",
              "       [ 7.8  ,  0.88 ,  0.   , ...,  0.68 ,  9.8  ,  5.   ],\n",
              "       [ 7.8  ,  0.76 ,  0.04 , ...,  0.65 ,  9.8  ,  5.   ],\n",
              "       ...,\n",
              "       [ 6.3  ,  0.51 ,  0.13 , ...,  0.75 , 11.   ,  6.   ],\n",
              "       [ 5.9  ,  0.645,  0.12 , ...,  0.71 , 10.2  ,  5.   ],\n",
              "       [ 6.   ,  0.31 ,  0.47 , ...,  0.66 , 11.   ,  6.   ]])"
            ]
          },
          "metadata": {},
          "execution_count": 166
        }
      ]
    },
    {
      "cell_type": "code",
      "metadata": {
        "colab": {
          "base_uri": "https://localhost:8080/"
        },
        "id": "AdiVZZSk-ixl",
        "outputId": "fbcddfce-30a3-4de5-eb13-e0fd51980581"
      },
      "source": [
        "# Aquí tenemos un conjunto de datos muy popular sobre la calidad del vino, y solo veremos los vinos tintos. Los datos\n",
        "# Los campos incluyen: acidez fija, acidez volátil, ácido cítrico, azúcar residual, cloruros, dióxido de azufre libre,\n",
        "# densidad total de dióxido de azufre , pH, sulfatos, alcohol, calidad\n",
        "\n",
        "print(wines[:,0])   # Todas las filas primer columna\n",
        "                    #\n",
        "print(wines[:, 0:1])  #Todas las filas, primer columna pero respetando la posición en las filas\n",
        "                      # Con dos, filas y columnas seleccionadas\n",
        "\n",
        "print(wines[:, 0:3]) # Tolas las filas, columnas seleccionadas de 0 a 2 "
      ],
      "execution_count": null,
      "outputs": [
        {
          "output_type": "stream",
          "name": "stdout",
          "text": [
            "[7.4 7.8 7.8 ... 6.3 5.9 6. ]\n",
            "[[7.4]\n",
            " [7.8]\n",
            " [7.8]\n",
            " ...\n",
            " [6.3]\n",
            " [5.9]\n",
            " [6. ]]\n",
            "[[7.4   0.7   0.   ]\n",
            " [7.8   0.88  0.   ]\n",
            " [7.8   0.76  0.04 ]\n",
            " ...\n",
            " [6.3   0.51  0.13 ]\n",
            " [5.9   0.645 0.12 ]\n",
            " [6.    0.31  0.47 ]]\n"
          ]
        }
      ]
    },
    {
      "cell_type": "code",
      "metadata": {
        "colab": {
          "base_uri": "https://localhost:8080/"
        },
        "id": "BjCIeKlBAlpX",
        "outputId": "a229e2f1-84a4-4f5b-b8c8-4da7f835b563"
      },
      "source": [
        "# Si queremos un conjunto de columnas no consecutivas, podemos ingresar como argumento 2, una lista con el \n",
        "# conjunto de columnas deseadas \n",
        "\n",
        "print(wines[:,[0,2,4]])"
      ],
      "execution_count": null,
      "outputs": [
        {
          "output_type": "stream",
          "name": "stdout",
          "text": [
            "[[7.4   0.    0.076]\n",
            " [7.8   0.    0.098]\n",
            " [7.8   0.04  0.092]\n",
            " ...\n",
            " [6.3   0.13  0.076]\n",
            " [5.9   0.12  0.075]\n",
            " [6.    0.47  0.067]]\n"
          ]
        }
      ]
    },
    {
      "cell_type": "code",
      "metadata": {
        "colab": {
          "base_uri": "https://localhost:8080/"
        },
        "id": "RsC1poivA6Rx",
        "outputId": "3c86659a-fae7-43bb-993e-7b3acc54b1af"
      },
      "source": [
        "## Por ejemplo para operar alguna columna de la matriz, buscaremos la media de la calidad de los vinos\n",
        "# La calidad es la última columna de la matriz, por ello usaremos el indexar con -1\n",
        "\n",
        "a = wines[:,-1]\n",
        "print(a)\n",
        "a.mean()"
      ],
      "execution_count": null,
      "outputs": [
        {
          "output_type": "stream",
          "name": "stdout",
          "text": [
            "[5. 5. 5. ... 6. 5. 6.]\n"
          ]
        },
        {
          "output_type": "execute_result",
          "data": {
            "text/plain": [
              "5.6360225140712945"
            ]
          },
          "metadata": {},
          "execution_count": 187
        }
      ]
    },
    {
      "cell_type": "code",
      "metadata": {
        "colab": {
          "base_uri": "https://localhost:8080/"
        },
        "id": "sgvdpcZtA_fh",
        "outputId": "fd394b25-a960-4eeb-8e10-a9415440113b"
      },
      "source": [
        "from numpy.lib.npyio import genfromtxt\n",
        "admision = np.genfromtxt('Admission_Predict.csv', dtype=None , delimiter =',', skip_header=1,\n",
        "                          names=('Serial No','GRE Score', 'TOEFL Score', 'University Rating', 'SOP',\n",
        "                                          'LOR','CGPA','Research', 'Chance of Admit'))\n",
        "\n",
        "admision "
      ],
      "execution_count": null,
      "outputs": [
        {
          "output_type": "execute_result",
          "data": {
            "text/plain": [
              "array([(  1, 337, 118, 4, 4.5, 4.5, 9.65, 1, 0.92),\n",
              "       (  2, 324, 107, 4, 4. , 4.5, 8.87, 1, 0.76),\n",
              "       (  3, 316, 104, 3, 3. , 3.5, 8.  , 1, 0.72),\n",
              "       (  4, 322, 110, 3, 3.5, 2.5, 8.67, 1, 0.8 ),\n",
              "       (  5, 314, 103, 2, 2. , 3. , 8.21, 0, 0.65),\n",
              "       (  6, 330, 115, 5, 4.5, 3. , 9.34, 1, 0.9 ),\n",
              "       (  7, 321, 109, 3, 3. , 4. , 8.2 , 1, 0.75),\n",
              "       (  8, 308, 101, 2, 3. , 4. , 7.9 , 0, 0.68),\n",
              "       (  9, 302, 102, 1, 2. , 1.5, 8.  , 0, 0.5 ),\n",
              "       ( 10, 323, 108, 3, 3.5, 3. , 8.6 , 0, 0.45),\n",
              "       ( 11, 325, 106, 3, 3.5, 4. , 8.4 , 1, 0.52),\n",
              "       ( 12, 327, 111, 4, 4. , 4.5, 9.  , 1, 0.84),\n",
              "       ( 13, 328, 112, 4, 4. , 4.5, 9.1 , 1, 0.78),\n",
              "       ( 14, 307, 109, 3, 4. , 3. , 8.  , 1, 0.62),\n",
              "       ( 15, 311, 104, 3, 3.5, 2. , 8.2 , 1, 0.61),\n",
              "       ( 16, 314, 105, 3, 3.5, 2.5, 8.3 , 0, 0.54),\n",
              "       ( 17, 317, 107, 3, 4. , 3. , 8.7 , 0, 0.66),\n",
              "       ( 18, 319, 106, 3, 4. , 3. , 8.  , 1, 0.65),\n",
              "       ( 19, 318, 110, 3, 4. , 3. , 8.8 , 0, 0.63),\n",
              "       ( 20, 303, 102, 3, 3.5, 3. , 8.5 , 0, 0.62),\n",
              "       ( 21, 312, 107, 3, 3. , 2. , 7.9 , 1, 0.64),\n",
              "       ( 22, 325, 114, 4, 3. , 2. , 8.4 , 0, 0.7 ),\n",
              "       ( 23, 328, 116, 5, 5. , 5. , 9.5 , 1, 0.94),\n",
              "       ( 24, 334, 119, 5, 5. , 4.5, 9.7 , 1, 0.95),\n",
              "       ( 25, 336, 119, 5, 4. , 3.5, 9.8 , 1, 0.97),\n",
              "       ( 26, 340, 120, 5, 4.5, 4.5, 9.6 , 1, 0.94),\n",
              "       ( 27, 322, 109, 5, 4.5, 3.5, 8.8 , 0, 0.76),\n",
              "       ( 28, 298,  98, 2, 1.5, 2.5, 7.5 , 1, 0.44),\n",
              "       ( 29, 295,  93, 1, 2. , 2. , 7.2 , 0, 0.46),\n",
              "       ( 30, 310,  99, 2, 1.5, 2. , 7.3 , 0, 0.54),\n",
              "       ( 31, 300,  97, 2, 3. , 3. , 8.1 , 1, 0.65),\n",
              "       ( 32, 327, 103, 3, 4. , 4. , 8.3 , 1, 0.74),\n",
              "       ( 33, 338, 118, 4, 3. , 4.5, 9.4 , 1, 0.91),\n",
              "       ( 34, 340, 114, 5, 4. , 4. , 9.6 , 1, 0.9 ),\n",
              "       ( 35, 331, 112, 5, 4. , 5. , 9.8 , 1, 0.94),\n",
              "       ( 36, 320, 110, 5, 5. , 5. , 9.2 , 1, 0.88),\n",
              "       ( 37, 299, 106, 2, 4. , 4. , 8.4 , 0, 0.64),\n",
              "       ( 38, 300, 105, 1, 1. , 2. , 7.8 , 0, 0.58),\n",
              "       ( 39, 304, 105, 1, 3. , 1.5, 7.5 , 0, 0.52),\n",
              "       ( 40, 307, 108, 2, 4. , 3.5, 7.7 , 0, 0.48),\n",
              "       ( 41, 308, 110, 3, 3.5, 3. , 8.  , 1, 0.46),\n",
              "       ( 42, 316, 105, 2, 2.5, 2.5, 8.2 , 1, 0.49),\n",
              "       ( 43, 313, 107, 2, 2.5, 2. , 8.5 , 1, 0.53),\n",
              "       ( 44, 332, 117, 4, 4.5, 4. , 9.1 , 0, 0.87),\n",
              "       ( 45, 326, 113, 5, 4.5, 4. , 9.4 , 1, 0.91),\n",
              "       ( 46, 322, 110, 5, 5. , 4. , 9.1 , 1, 0.88),\n",
              "       ( 47, 329, 114, 5, 4. , 5. , 9.3 , 1, 0.86),\n",
              "       ( 48, 339, 119, 5, 4.5, 4. , 9.7 , 0, 0.89),\n",
              "       ( 49, 321, 110, 3, 3.5, 5. , 8.85, 1, 0.82),\n",
              "       ( 50, 327, 111, 4, 3. , 4. , 8.4 , 1, 0.78),\n",
              "       ( 51, 313,  98, 3, 2.5, 4.5, 8.3 , 1, 0.76),\n",
              "       ( 52, 312, 100, 2, 1.5, 3.5, 7.9 , 1, 0.56),\n",
              "       ( 53, 334, 116, 4, 4. , 3. , 8.  , 1, 0.78),\n",
              "       ( 54, 324, 112, 4, 4. , 2.5, 8.1 , 1, 0.72),\n",
              "       ( 55, 322, 110, 3, 3. , 3.5, 8.  , 0, 0.7 ),\n",
              "       ( 56, 320, 103, 3, 3. , 3. , 7.7 , 0, 0.64),\n",
              "       ( 57, 316, 102, 3, 2. , 3. , 7.4 , 0, 0.64),\n",
              "       ( 58, 298,  99, 2, 4. , 2. , 7.6 , 0, 0.46),\n",
              "       ( 59, 300,  99, 1, 3. , 2. , 6.8 , 1, 0.36),\n",
              "       ( 60, 311, 104, 2, 2. , 2. , 8.3 , 0, 0.42),\n",
              "       ( 61, 309, 100, 2, 3. , 3. , 8.1 , 0, 0.48),\n",
              "       ( 62, 307, 101, 3, 4. , 3. , 8.2 , 0, 0.47),\n",
              "       ( 63, 304, 105, 2, 3. , 3. , 8.2 , 1, 0.54),\n",
              "       ( 64, 315, 107, 2, 4. , 3. , 8.5 , 1, 0.56),\n",
              "       ( 65, 325, 111, 3, 3. , 3.5, 8.7 , 0, 0.52),\n",
              "       ( 66, 325, 112, 4, 3.5, 3.5, 8.92, 0, 0.55),\n",
              "       ( 67, 327, 114, 3, 3. , 3. , 9.02, 0, 0.61),\n",
              "       ( 68, 316, 107, 2, 3.5, 3.5, 8.64, 1, 0.57),\n",
              "       ( 69, 318, 109, 3, 3.5, 4. , 9.22, 1, 0.68),\n",
              "       ( 70, 328, 115, 4, 4.5, 4. , 9.16, 1, 0.78),\n",
              "       ( 71, 332, 118, 5, 5. , 5. , 9.64, 1, 0.94),\n",
              "       ( 72, 336, 112, 5, 5. , 5. , 9.76, 1, 0.96),\n",
              "       ( 73, 321, 111, 5, 5. , 5. , 9.45, 1, 0.93),\n",
              "       ( 74, 314, 108, 4, 4.5, 4. , 9.04, 1, 0.84),\n",
              "       ( 75, 314, 106, 3, 3. , 5. , 8.9 , 0, 0.74),\n",
              "       ( 76, 329, 114, 2, 2. , 4. , 8.56, 1, 0.72),\n",
              "       ( 77, 327, 112, 3, 3. , 3. , 8.72, 1, 0.74),\n",
              "       ( 78, 301,  99, 2, 3. , 2. , 8.22, 0, 0.64),\n",
              "       ( 79, 296,  95, 2, 3. , 2. , 7.54, 1, 0.44),\n",
              "       ( 80, 294,  93, 1, 1.5, 2. , 7.36, 0, 0.46),\n",
              "       ( 81, 312, 105, 3, 2. , 3. , 8.02, 1, 0.5 ),\n",
              "       ( 82, 340, 120, 4, 5. , 5. , 9.5 , 1, 0.96),\n",
              "       ( 83, 320, 110, 5, 5. , 4.5, 9.22, 1, 0.92),\n",
              "       ( 84, 322, 115, 5, 4. , 4.5, 9.36, 1, 0.92),\n",
              "       ( 85, 340, 115, 5, 4.5, 4.5, 9.45, 1, 0.94),\n",
              "       ( 86, 319, 103, 4, 4.5, 3.5, 8.66, 0, 0.76),\n",
              "       ( 87, 315, 106, 3, 4.5, 3.5, 8.42, 0, 0.72),\n",
              "       ( 88, 317, 107, 2, 3.5, 3. , 8.28, 0, 0.66),\n",
              "       ( 89, 314, 108, 3, 4.5, 3.5, 8.14, 0, 0.64),\n",
              "       ( 90, 316, 109, 4, 4.5, 3.5, 8.76, 1, 0.74),\n",
              "       ( 91, 318, 106, 2, 4. , 4. , 7.92, 1, 0.64),\n",
              "       ( 92, 299,  97, 3, 5. , 3.5, 7.66, 0, 0.38),\n",
              "       ( 93, 298,  98, 2, 4. , 3. , 8.03, 0, 0.34),\n",
              "       ( 94, 301,  97, 2, 3. , 3. , 7.88, 1, 0.44),\n",
              "       ( 95, 303,  99, 3, 2. , 2.5, 7.66, 0, 0.36),\n",
              "       ( 96, 304, 100, 4, 1.5, 2.5, 7.84, 0, 0.42),\n",
              "       ( 97, 306, 100, 2, 3. , 3. , 8.  , 0, 0.48),\n",
              "       ( 98, 331, 120, 3, 4. , 4. , 8.96, 1, 0.86),\n",
              "       ( 99, 332, 119, 4, 5. , 4.5, 9.24, 1, 0.9 ),\n",
              "       (100, 323, 113, 3, 4. , 4. , 8.88, 1, 0.79),\n",
              "       (101, 322, 107, 3, 3.5, 3.5, 8.46, 1, 0.71),\n",
              "       (102, 312, 105, 2, 2.5, 3. , 8.12, 0, 0.64),\n",
              "       (103, 314, 106, 2, 4. , 3.5, 8.25, 0, 0.62),\n",
              "       (104, 317, 104, 2, 4.5, 4. , 8.47, 0, 0.57),\n",
              "       (105, 326, 112, 3, 3.5, 3. , 9.05, 1, 0.74),\n",
              "       (106, 316, 110, 3, 4. , 4.5, 8.78, 1, 0.69),\n",
              "       (107, 329, 111, 4, 4.5, 4.5, 9.18, 1, 0.87),\n",
              "       (108, 338, 117, 4, 3.5, 4.5, 9.46, 1, 0.91),\n",
              "       (109, 331, 116, 5, 5. , 5. , 9.38, 1, 0.93),\n",
              "       (110, 304, 103, 5, 5. , 4. , 8.64, 0, 0.68),\n",
              "       (111, 305, 108, 5, 3. , 3. , 8.48, 0, 0.61),\n",
              "       (112, 321, 109, 4, 4. , 4. , 8.68, 1, 0.69),\n",
              "       (113, 301, 107, 3, 3.5, 3.5, 8.34, 1, 0.62),\n",
              "       (114, 320, 110, 2, 4. , 3.5, 8.56, 0, 0.72),\n",
              "       (115, 311, 105, 3, 3.5, 3. , 8.45, 1, 0.59),\n",
              "       (116, 310, 106, 4, 4.5, 4.5, 9.04, 1, 0.66),\n",
              "       (117, 299, 102, 3, 4. , 3.5, 8.62, 0, 0.56),\n",
              "       (118, 290, 104, 4, 2. , 2.5, 7.46, 0, 0.45),\n",
              "       (119, 296,  99, 2, 3. , 3.5, 7.28, 0, 0.47),\n",
              "       (120, 327, 104, 5, 3. , 3.5, 8.84, 1, 0.71),\n",
              "       (121, 335, 117, 5, 5. , 5. , 9.56, 1, 0.94),\n",
              "       (122, 334, 119, 5, 4.5, 4.5, 9.48, 1, 0.94),\n",
              "       (123, 310, 106, 4, 1.5, 2.5, 8.36, 0, 0.57),\n",
              "       (124, 308, 108, 3, 3.5, 3.5, 8.22, 0, 0.61),\n",
              "       (125, 301, 106, 4, 2.5, 3. , 8.47, 0, 0.57),\n",
              "       (126, 300, 100, 3, 2. , 3. , 8.66, 1, 0.64),\n",
              "       (127, 323, 113, 3, 4. , 3. , 9.32, 1, 0.85),\n",
              "       (128, 319, 112, 3, 2.5, 2. , 8.71, 1, 0.78),\n",
              "       (129, 326, 112, 3, 3.5, 3. , 9.1 , 1, 0.84),\n",
              "       (130, 333, 118, 5, 5. , 5. , 9.35, 1, 0.92),\n",
              "       (131, 339, 114, 5, 4. , 4.5, 9.76, 1, 0.96),\n",
              "       (132, 303, 105, 5, 5. , 4.5, 8.65, 0, 0.77),\n",
              "       (133, 309, 105, 5, 3.5, 3.5, 8.56, 0, 0.71),\n",
              "       (134, 323, 112, 5, 4. , 4.5, 8.78, 0, 0.79),\n",
              "       (135, 333, 113, 5, 4. , 4. , 9.28, 1, 0.89),\n",
              "       (136, 314, 109, 4, 3.5, 4. , 8.77, 1, 0.82),\n",
              "       (137, 312, 103, 3, 5. , 4. , 8.45, 0, 0.76),\n",
              "       (138, 316, 100, 2, 1.5, 3. , 8.16, 1, 0.71),\n",
              "       (139, 326, 116, 2, 4.5, 3. , 9.08, 1, 0.8 ),\n",
              "       (140, 318, 109, 1, 3.5, 3.5, 9.12, 0, 0.78),\n",
              "       (141, 329, 110, 2, 4. , 3. , 9.15, 1, 0.84),\n",
              "       (142, 332, 118, 2, 4.5, 3.5, 9.36, 1, 0.9 ),\n",
              "       (143, 331, 115, 5, 4. , 3.5, 9.44, 1, 0.92),\n",
              "       (144, 340, 120, 4, 4.5, 4. , 9.92, 1, 0.97),\n",
              "       (145, 325, 112, 2, 3. , 3.5, 8.96, 1, 0.8 ),\n",
              "       (146, 320, 113, 2, 2. , 2.5, 8.64, 1, 0.81),\n",
              "       (147, 315, 105, 3, 2. , 2.5, 8.48, 0, 0.75),\n",
              "       (148, 326, 114, 3, 3. , 3. , 9.11, 1, 0.83),\n",
              "       (149, 339, 116, 4, 4. , 3.5, 9.8 , 1, 0.96),\n",
              "       (150, 311, 106, 2, 3.5, 3. , 8.26, 1, 0.79),\n",
              "       (151, 334, 114, 4, 4. , 4. , 9.43, 1, 0.93),\n",
              "       (152, 332, 116, 5, 5. , 5. , 9.28, 1, 0.94),\n",
              "       (153, 321, 112, 5, 5. , 5. , 9.06, 1, 0.86),\n",
              "       (154, 324, 105, 3, 3. , 4. , 8.75, 0, 0.79),\n",
              "       (155, 326, 108, 3, 3. , 3.5, 8.89, 0, 0.8 ),\n",
              "       (156, 312, 109, 3, 3. , 3. , 8.69, 0, 0.77),\n",
              "       (157, 315, 105, 3, 2. , 2.5, 8.34, 0, 0.7 ),\n",
              "       (158, 309, 104, 2, 2. , 2.5, 8.26, 0, 0.65),\n",
              "       (159, 306, 106, 2, 2. , 2.5, 8.14, 0, 0.61),\n",
              "       (160, 297, 100, 1, 1.5, 2. , 7.9 , 0, 0.52),\n",
              "       (161, 315, 103, 1, 1.5, 2. , 7.86, 0, 0.57),\n",
              "       (162, 298,  99, 1, 1.5, 3. , 7.46, 0, 0.53),\n",
              "       (163, 318, 109, 3, 3. , 3. , 8.5 , 0, 0.67),\n",
              "       (164, 317, 105, 3, 3.5, 3. , 8.56, 0, 0.68),\n",
              "       (165, 329, 111, 4, 4.5, 4. , 9.01, 1, 0.81),\n",
              "       (166, 322, 110, 5, 4.5, 4. , 8.97, 0, 0.78),\n",
              "       (167, 302, 102, 3, 3.5, 5. , 8.33, 0, 0.65),\n",
              "       (168, 313, 102, 3, 2. , 3. , 8.27, 0, 0.64),\n",
              "       (169, 293,  97, 2, 2. , 4. , 7.8 , 1, 0.64),\n",
              "       (170, 311,  99, 2, 2.5, 3. , 7.98, 0, 0.65),\n",
              "       (171, 312, 101, 2, 2.5, 3.5, 8.04, 1, 0.68),\n",
              "       (172, 334, 117, 5, 4. , 4.5, 9.07, 1, 0.89),\n",
              "       (173, 322, 110, 4, 4. , 5. , 9.13, 1, 0.86),\n",
              "       (174, 323, 113, 4, 4. , 4.5, 9.23, 1, 0.89),\n",
              "       (175, 321, 111, 4, 4. , 4. , 8.97, 1, 0.87),\n",
              "       (176, 320, 111, 4, 4.5, 3.5, 8.87, 1, 0.85),\n",
              "       (177, 329, 119, 4, 4.5, 4.5, 9.16, 1, 0.9 ),\n",
              "       (178, 319, 110, 3, 3.5, 3.5, 9.04, 0, 0.82),\n",
              "       (179, 309, 108, 3, 2.5, 3. , 8.12, 0, 0.72),\n",
              "       (180, 307, 102, 3, 3. , 3. , 8.27, 0, 0.73),\n",
              "       (181, 300, 104, 3, 3.5, 3. , 8.16, 0, 0.71),\n",
              "       (182, 305, 107, 2, 2.5, 2.5, 8.42, 0, 0.71),\n",
              "       (183, 299, 100, 2, 3. , 3.5, 7.88, 0, 0.68),\n",
              "       (184, 314, 110, 3, 4. , 4. , 8.8 , 0, 0.75),\n",
              "       (185, 316, 106, 2, 2.5, 4. , 8.32, 0, 0.72),\n",
              "       (186, 327, 113, 4, 4.5, 4.5, 9.11, 1, 0.89),\n",
              "       (187, 317, 107, 3, 3.5, 3. , 8.68, 1, 0.84),\n",
              "       (188, 335, 118, 5, 4.5, 3.5, 9.44, 1, 0.93),\n",
              "       (189, 331, 115, 5, 4.5, 3.5, 9.36, 1, 0.93),\n",
              "       (190, 324, 112, 5, 5. , 5. , 9.08, 1, 0.88),\n",
              "       (191, 324, 111, 5, 4.5, 4. , 9.16, 1, 0.9 ),\n",
              "       (192, 323, 110, 5, 4. , 5. , 8.98, 1, 0.87),\n",
              "       (193, 322, 114, 5, 4.5, 4. , 8.94, 1, 0.86),\n",
              "       (194, 336, 118, 5, 4.5, 5. , 9.53, 1, 0.94),\n",
              "       (195, 316, 109, 3, 3.5, 3. , 8.76, 0, 0.77),\n",
              "       (196, 307, 107, 2, 3. , 3.5, 8.52, 1, 0.78),\n",
              "       (197, 306, 105, 2, 3. , 2.5, 8.26, 0, 0.73),\n",
              "       (198, 310, 106, 2, 3.5, 2.5, 8.33, 0, 0.73),\n",
              "       (199, 311, 104, 3, 4.5, 4.5, 8.43, 0, 0.7 ),\n",
              "       (200, 313, 107, 3, 4. , 4.5, 8.69, 0, 0.72),\n",
              "       (201, 317, 103, 3, 2.5, 3. , 8.54, 1, 0.73),\n",
              "       (202, 315, 110, 2, 3.5, 3. , 8.46, 1, 0.72),\n",
              "       (203, 340, 120, 5, 4.5, 4.5, 9.91, 1, 0.97),\n",
              "       (204, 334, 120, 5, 4. , 5. , 9.87, 1, 0.97),\n",
              "       (205, 298, 105, 3, 3.5, 4. , 8.54, 0, 0.69),\n",
              "       (206, 295,  99, 2, 2.5, 3. , 7.65, 0, 0.57),\n",
              "       (207, 315,  99, 2, 3.5, 3. , 7.89, 0, 0.63),\n",
              "       (208, 310, 102, 3, 3.5, 4. , 8.02, 1, 0.66),\n",
              "       (209, 305, 106, 2, 3. , 3. , 8.16, 0, 0.64),\n",
              "       (210, 301, 104, 3, 3.5, 4. , 8.12, 1, 0.68),\n",
              "       (211, 325, 108, 4, 4.5, 4. , 9.06, 1, 0.79),\n",
              "       (212, 328, 110, 4, 5. , 4. , 9.14, 1, 0.82),\n",
              "       (213, 338, 120, 4, 5. , 5. , 9.66, 1, 0.95),\n",
              "       (214, 333, 119, 5, 5. , 4.5, 9.78, 1, 0.96),\n",
              "       (215, 331, 117, 4, 4.5, 5. , 9.42, 1, 0.94),\n",
              "       (216, 330, 116, 5, 5. , 4.5, 9.36, 1, 0.93),\n",
              "       (217, 322, 112, 4, 4.5, 4.5, 9.26, 1, 0.91),\n",
              "       (218, 321, 109, 4, 4. , 4. , 9.13, 1, 0.85),\n",
              "       (219, 324, 110, 4, 3. , 3.5, 8.97, 1, 0.84),\n",
              "       (220, 312, 104, 3, 3.5, 3.5, 8.42, 0, 0.74),\n",
              "       (221, 313, 103, 3, 4. , 4. , 8.75, 0, 0.76),\n",
              "       (222, 316, 110, 3, 3.5, 4. , 8.56, 0, 0.75),\n",
              "       (223, 324, 113, 4, 4.5, 4. , 8.79, 0, 0.76),\n",
              "       (224, 308, 109, 2, 3. , 4. , 8.45, 0, 0.71),\n",
              "       (225, 305, 105, 2, 3. , 2. , 8.23, 0, 0.67),\n",
              "       (226, 296,  99, 2, 2.5, 2.5, 8.03, 0, 0.61),\n",
              "       (227, 306, 110, 2, 3.5, 4. , 8.45, 0, 0.63),\n",
              "       (228, 312, 110, 2, 3.5, 3. , 8.53, 0, 0.64),\n",
              "       (229, 318, 112, 3, 4. , 3.5, 8.67, 0, 0.71),\n",
              "       (230, 324, 111, 4, 3. , 3. , 9.01, 1, 0.82),\n",
              "       (231, 313, 104, 3, 4. , 4.5, 8.65, 0, 0.73),\n",
              "       (232, 319, 106, 3, 3.5, 2.5, 8.33, 1, 0.74),\n",
              "       (233, 312, 107, 2, 2.5, 3.5, 8.27, 0, 0.69),\n",
              "       (234, 304, 100, 2, 2.5, 3.5, 8.07, 0, 0.64),\n",
              "       (235, 330, 113, 5, 5. , 4. , 9.31, 1, 0.91),\n",
              "       (236, 326, 111, 5, 4.5, 4. , 9.23, 1, 0.88),\n",
              "       (237, 325, 112, 4, 4. , 4.5, 9.17, 1, 0.85),\n",
              "       (238, 329, 114, 5, 4.5, 5. , 9.19, 1, 0.86),\n",
              "       (239, 310, 104, 3, 2. , 3.5, 8.37, 0, 0.7 ),\n",
              "       (240, 299, 100, 1, 1.5, 2. , 7.89, 0, 0.59),\n",
              "       (241, 296, 101, 1, 2.5, 3. , 7.68, 0, 0.6 ),\n",
              "       (242, 317, 103, 2, 2.5, 2. , 8.15, 0, 0.65),\n",
              "       (243, 324, 115, 3, 3.5, 3. , 8.76, 1, 0.7 ),\n",
              "       (244, 325, 114, 3, 3.5, 3. , 9.04, 1, 0.76),\n",
              "       (245, 314, 107, 2, 2.5, 4. , 8.56, 0, 0.63),\n",
              "       (246, 328, 110, 4, 4. , 2.5, 9.02, 1, 0.81),\n",
              "       (247, 316, 105, 3, 3. , 3.5, 8.73, 0, 0.72),\n",
              "       (248, 311, 104, 2, 2.5, 3.5, 8.48, 0, 0.71),\n",
              "       (249, 324, 110, 3, 3.5, 4. , 8.87, 1, 0.8 ),\n",
              "       (250, 321, 111, 3, 3.5, 4. , 8.83, 1, 0.77),\n",
              "       (251, 320, 104, 3, 3. , 2.5, 8.57, 1, 0.74),\n",
              "       (252, 316,  99, 2, 2.5, 3. , 9.  , 0, 0.7 ),\n",
              "       (253, 318, 100, 2, 2.5, 3.5, 8.54, 1, 0.71),\n",
              "       (254, 335, 115, 4, 4.5, 4.5, 9.68, 1, 0.93),\n",
              "       (255, 321, 114, 4, 4. , 5. , 9.12, 0, 0.85),\n",
              "       (256, 307, 110, 4, 4. , 4.5, 8.37, 0, 0.79),\n",
              "       (257, 309,  99, 3, 4. , 4. , 8.56, 0, 0.76),\n",
              "       (258, 324, 100, 3, 4. , 5. , 8.64, 1, 0.78),\n",
              "       (259, 326, 102, 4, 5. , 5. , 8.76, 1, 0.77),\n",
              "       (260, 331, 119, 4, 5. , 4.5, 9.34, 1, 0.9 ),\n",
              "       (261, 327, 108, 5, 5. , 3.5, 9.13, 1, 0.87),\n",
              "       (262, 312, 104, 3, 3.5, 4. , 8.09, 0, 0.71),\n",
              "       (263, 308, 103, 2, 2.5, 4. , 8.36, 1, 0.7 ),\n",
              "       (264, 324, 111, 3, 2.5, 1.5, 8.79, 1, 0.7 ),\n",
              "       (265, 325, 110, 2, 3. , 2.5, 8.76, 1, 0.75),\n",
              "       (266, 313, 102, 3, 2.5, 2.5, 8.68, 0, 0.71),\n",
              "       (267, 312, 105, 2, 2. , 2.5, 8.45, 0, 0.72),\n",
              "       (268, 314, 107, 3, 3. , 3.5, 8.17, 1, 0.73),\n",
              "       (269, 327, 113, 4, 4.5, 5. , 9.14, 0, 0.83),\n",
              "       (270, 308, 108, 4, 4.5, 5. , 8.34, 0, 0.77),\n",
              "       (271, 306, 105, 2, 2.5, 3. , 8.22, 1, 0.72),\n",
              "       (272, 299,  96, 2, 1.5, 2. , 7.86, 0, 0.54),\n",
              "       (273, 294,  95, 1, 1.5, 1.5, 7.64, 0, 0.49),\n",
              "       (274, 312,  99, 1, 1. , 1.5, 8.01, 1, 0.52),\n",
              "       (275, 315, 100, 1, 2. , 2.5, 7.95, 0, 0.58),\n",
              "       (276, 322, 110, 3, 3.5, 3. , 8.96, 1, 0.78),\n",
              "       (277, 329, 113, 5, 5. , 4.5, 9.45, 1, 0.89),\n",
              "       (278, 320, 101, 2, 2.5, 3. , 8.62, 0, 0.7 ),\n",
              "       (279, 308, 103, 2, 3. , 3.5, 8.49, 0, 0.66),\n",
              "       (280, 304, 102, 2, 3. , 4. , 8.73, 0, 0.67),\n",
              "       (281, 311, 102, 3, 4.5, 4. , 8.64, 1, 0.68),\n",
              "       (282, 317, 110, 3, 4. , 4.5, 9.11, 1, 0.8 ),\n",
              "       (283, 312, 106, 3, 4. , 3.5, 8.79, 1, 0.81),\n",
              "       (284, 321, 111, 3, 2.5, 3. , 8.9 , 1, 0.8 ),\n",
              "       (285, 340, 112, 4, 5. , 4.5, 9.66, 1, 0.94),\n",
              "       (286, 331, 116, 5, 4. , 4. , 9.26, 1, 0.93),\n",
              "       (287, 336, 118, 5, 4.5, 4. , 9.19, 1, 0.92),\n",
              "       (288, 324, 114, 5, 5. , 4.5, 9.08, 1, 0.89),\n",
              "       (289, 314, 104, 4, 5. , 5. , 9.02, 0, 0.82),\n",
              "       (290, 313, 109, 3, 4. , 3.5, 9.  , 0, 0.79),\n",
              "       (291, 307, 105, 2, 2.5, 3. , 7.65, 0, 0.58),\n",
              "       (292, 300, 102, 2, 1.5, 2. , 7.87, 0, 0.56),\n",
              "       (293, 302,  99, 2, 1. , 2. , 7.97, 0, 0.56),\n",
              "       (294, 312,  98, 1, 3.5, 3. , 8.18, 1, 0.64),\n",
              "       (295, 316, 101, 2, 2.5, 2. , 8.32, 1, 0.61),\n",
              "       (296, 317, 100, 2, 3. , 2.5, 8.57, 0, 0.68),\n",
              "       (297, 310, 107, 3, 3.5, 3.5, 8.67, 0, 0.76),\n",
              "       (298, 320, 120, 3, 4. , 4.5, 9.11, 0, 0.86),\n",
              "       (299, 330, 114, 3, 4.5, 4.5, 9.24, 1, 0.9 ),\n",
              "       (300, 305, 112, 3, 3. , 3.5, 8.65, 0, 0.71),\n",
              "       (301, 309, 106, 2, 2.5, 2.5, 8.  , 0, 0.62),\n",
              "       (302, 319, 108, 2, 2.5, 3. , 8.76, 0, 0.66),\n",
              "       (303, 322, 105, 2, 3. , 3. , 8.45, 1, 0.65),\n",
              "       (304, 323, 107, 3, 3.5, 3.5, 8.55, 1, 0.73),\n",
              "       (305, 313, 106, 2, 2.5, 2. , 8.43, 0, 0.62),\n",
              "       (306, 321, 109, 3, 3.5, 3.5, 8.8 , 1, 0.74),\n",
              "       (307, 323, 110, 3, 4. , 3.5, 9.1 , 1, 0.79),\n",
              "       (308, 325, 112, 4, 4. , 4. , 9.  , 1, 0.8 ),\n",
              "       (309, 312, 108, 3, 3.5, 3. , 8.53, 0, 0.69),\n",
              "       (310, 308, 110, 4, 3.5, 3. , 8.6 , 0, 0.7 ),\n",
              "       (311, 320, 104, 3, 3. , 3.5, 8.74, 1, 0.76),\n",
              "       (312, 328, 108, 4, 4.5, 4. , 9.18, 1, 0.84),\n",
              "       (313, 311, 107, 4, 4.5, 4.5, 9.  , 1, 0.78),\n",
              "       (314, 301, 100, 3, 3.5, 3. , 8.04, 0, 0.67),\n",
              "       (315, 305, 105, 2, 3. , 4. , 8.13, 0, 0.66),\n",
              "       (316, 308, 104, 2, 2.5, 3. , 8.07, 0, 0.65),\n",
              "       (317, 298, 101, 2, 1.5, 2. , 7.86, 0, 0.54),\n",
              "       (318, 300,  99, 1, 1. , 2.5, 8.01, 0, 0.58),\n",
              "       (319, 324, 111, 3, 2.5, 2. , 8.8 , 1, 0.79),\n",
              "       (320, 327, 113, 4, 3.5, 3. , 8.69, 1, 0.8 ),\n",
              "       (321, 317, 106, 3, 4. , 3.5, 8.5 , 1, 0.75),\n",
              "       (322, 323, 104, 3, 4. , 4. , 8.44, 1, 0.73),\n",
              "       (323, 314, 107, 2, 2.5, 4. , 8.27, 0, 0.72),\n",
              "       (324, 305, 102, 2, 2. , 2.5, 8.18, 0, 0.62),\n",
              "       (325, 315, 104, 3, 3. , 2.5, 8.33, 0, 0.67),\n",
              "       (326, 326, 116, 3, 3.5, 4. , 9.14, 1, 0.81),\n",
              "       (327, 299, 100, 3, 2. , 2. , 8.02, 0, 0.63),\n",
              "       (328, 295, 101, 2, 2.5, 2. , 7.86, 0, 0.69),\n",
              "       (329, 324, 112, 4, 4. , 3.5, 8.77, 1, 0.8 ),\n",
              "       (330, 297,  96, 2, 2.5, 1.5, 7.89, 0, 0.43),\n",
              "       (331, 327, 113, 3, 3.5, 3. , 8.66, 1, 0.8 ),\n",
              "       (332, 311, 105, 2, 3. , 2. , 8.12, 1, 0.73),\n",
              "       (333, 308, 106, 3, 3.5, 2.5, 8.21, 1, 0.75),\n",
              "       (334, 319, 108, 3, 3. , 3.5, 8.54, 1, 0.71),\n",
              "       (335, 312, 107, 4, 4.5, 4. , 8.65, 1, 0.73),\n",
              "       (336, 325, 111, 4, 4. , 4.5, 9.11, 1, 0.83),\n",
              "       (337, 319, 110, 3, 3. , 2.5, 8.79, 0, 0.72),\n",
              "       (338, 332, 118, 5, 5. , 5. , 9.47, 1, 0.94),\n",
              "       (339, 323, 108, 5, 4. , 4. , 8.74, 1, 0.81),\n",
              "       (340, 324, 107, 5, 3.5, 4. , 8.66, 1, 0.81),\n",
              "       (341, 312, 107, 3, 3. , 3. , 8.46, 1, 0.75),\n",
              "       (342, 326, 110, 3, 3.5, 3.5, 8.76, 1, 0.79),\n",
              "       (343, 308, 106, 3, 3. , 3. , 8.24, 0, 0.58),\n",
              "       (344, 305, 103, 2, 2.5, 3.5, 8.13, 0, 0.59),\n",
              "       (345, 295,  96, 2, 1.5, 2. , 7.34, 0, 0.47),\n",
              "       (346, 316,  98, 1, 1.5, 2. , 7.43, 0, 0.49),\n",
              "       (347, 304,  97, 2, 1.5, 2. , 7.64, 0, 0.47),\n",
              "       (348, 299,  94, 1, 1. , 1. , 7.34, 0, 0.42),\n",
              "       (349, 302,  99, 1, 2. , 2. , 7.25, 0, 0.57),\n",
              "       (350, 313, 101, 3, 2.5, 3. , 8.04, 0, 0.62),\n",
              "       (351, 318, 107, 3, 3. , 3.5, 8.27, 1, 0.74),\n",
              "       (352, 325, 110, 4, 3.5, 4. , 8.67, 1, 0.73),\n",
              "       (353, 303, 100, 2, 3. , 3.5, 8.06, 1, 0.64),\n",
              "       (354, 300, 102, 3, 3.5, 2.5, 8.17, 0, 0.63),\n",
              "       (355, 297,  98, 2, 2.5, 3. , 7.67, 0, 0.59),\n",
              "       (356, 317, 106, 2, 2. , 3.5, 8.12, 0, 0.73),\n",
              "       (357, 327, 109, 3, 3.5, 4. , 8.77, 1, 0.79),\n",
              "       (358, 301, 104, 2, 3.5, 3.5, 7.89, 1, 0.68),\n",
              "       (359, 314, 105, 2, 2.5, 2. , 7.64, 0, 0.7 ),\n",
              "       (360, 321, 107, 2, 2. , 1.5, 8.44, 0, 0.81),\n",
              "       (361, 322, 110, 3, 4. , 5. , 8.64, 1, 0.85),\n",
              "       (362, 334, 116, 4, 4. , 3.5, 9.54, 1, 0.93),\n",
              "       (363, 338, 115, 5, 4.5, 5. , 9.23, 1, 0.91),\n",
              "       (364, 306, 103, 2, 2.5, 3. , 8.36, 0, 0.69),\n",
              "       (365, 313, 102, 3, 3.5, 4. , 8.9 , 1, 0.77),\n",
              "       (366, 330, 114, 4, 4.5, 3. , 9.17, 1, 0.86),\n",
              "       (367, 320, 104, 3, 3.5, 4.5, 8.34, 1, 0.74),\n",
              "       (368, 311,  98, 1, 1. , 2.5, 7.46, 0, 0.57),\n",
              "       (369, 298,  92, 1, 2. , 2. , 7.88, 0, 0.51),\n",
              "       (370, 301,  98, 1, 2. , 3. , 8.03, 1, 0.67),\n",
              "       (371, 310, 103, 2, 2.5, 2.5, 8.24, 0, 0.72),\n",
              "       (372, 324, 110, 3, 3.5, 3. , 9.22, 1, 0.89),\n",
              "       (373, 336, 119, 4, 4.5, 4. , 9.62, 1, 0.95),\n",
              "       (374, 321, 109, 3, 3. , 3. , 8.54, 1, 0.79),\n",
              "       (375, 315, 105, 2, 2. , 2.5, 7.65, 0, 0.39),\n",
              "       (376, 304, 101, 2, 2. , 2.5, 7.66, 0, 0.38),\n",
              "       (377, 297,  96, 2, 2.5, 2. , 7.43, 0, 0.34),\n",
              "       (378, 290, 100, 1, 1.5, 2. , 7.56, 0, 0.47),\n",
              "       (379, 303,  98, 1, 2. , 2.5, 7.65, 0, 0.56),\n",
              "       (380, 311,  99, 1, 2.5, 3. , 8.43, 1, 0.71),\n",
              "       (381, 322, 104, 3, 3.5, 4. , 8.84, 1, 0.78),\n",
              "       (382, 319, 105, 3, 3. , 3.5, 8.67, 1, 0.73),\n",
              "       (383, 324, 110, 4, 4.5, 4. , 9.15, 1, 0.82),\n",
              "       (384, 300, 100, 3, 3. , 3.5, 8.26, 0, 0.62),\n",
              "       (385, 340, 113, 4, 5. , 5. , 9.74, 1, 0.96),\n",
              "       (386, 335, 117, 5, 5. , 5. , 9.82, 1, 0.96),\n",
              "       (387, 302, 101, 2, 2.5, 3.5, 7.96, 0, 0.46),\n",
              "       (388, 307, 105, 2, 2. , 3.5, 8.1 , 0, 0.53),\n",
              "       (389, 296,  97, 2, 1.5, 2. , 7.8 , 0, 0.49),\n",
              "       (390, 320, 108, 3, 3.5, 4. , 8.44, 1, 0.76),\n",
              "       (391, 314, 102, 2, 2. , 2.5, 8.24, 0, 0.64),\n",
              "       (392, 318, 106, 3, 2. , 3. , 8.65, 0, 0.71),\n",
              "       (393, 326, 112, 4, 4. , 3.5, 9.12, 1, 0.84),\n",
              "       (394, 317, 104, 2, 3. , 3. , 8.76, 0, 0.77),\n",
              "       (395, 329, 111, 4, 4.5, 4. , 9.23, 1, 0.89),\n",
              "       (396, 324, 110, 3, 3.5, 3.5, 9.04, 1, 0.82),\n",
              "       (397, 325, 107, 3, 3. , 3.5, 9.11, 1, 0.84),\n",
              "       (398, 330, 116, 4, 5. , 4.5, 9.45, 1, 0.91),\n",
              "       (399, 312, 103, 3, 3.5, 4. , 8.78, 0, 0.67),\n",
              "       (400, 333, 117, 4, 5. , 4. , 9.66, 1, 0.95)],\n",
              "      dtype=[('Serial_No', '<i8'), ('GRE_Score', '<i8'), ('TOEFL_Score', '<i8'), ('University_Rating', '<i8'), ('SOP', '<f8'), ('LOR', '<f8'), ('CGPA', '<f8'), ('Research', '<i8'), ('Chance_of_Admit', '<f8')])"
            ]
          },
          "metadata": {},
          "execution_count": 218
        }
      ]
    },
    {
      "cell_type": "code",
      "metadata": {
        "colab": {
          "base_uri": "https://localhost:8080/"
        },
        "id": "GVMcslfFDtd_",
        "outputId": "1fcc9bb5-576e-4b0e-a54a-81c29c406ed7"
      },
      "source": [
        "admision.shape   ## Matriz unidimensional con 400 tuplas (400 filas) "
      ],
      "execution_count": null,
      "outputs": [
        {
          "output_type": "execute_result",
          "data": {
            "text/plain": [
              "(400,)"
            ]
          },
          "metadata": {},
          "execution_count": 219
        }
      ]
    },
    {
      "cell_type": "code",
      "metadata": {
        "colab": {
          "base_uri": "https://localhost:8080/"
        },
        "id": "aF0Q43rFE3oS",
        "outputId": "a243e0db-c35f-4954-859e-e36731cae517"
      },
      "source": [
        "# recuperar una columna de la matriz usando el nombre de la columna, por ejemplo, obtengamos la columna CGPA y\n",
        "# solo los primeros cinco valores.\n",
        "\n",
        "admision['CGPA'][0:5]"
      ],
      "execution_count": null,
      "outputs": [
        {
          "output_type": "execute_result",
          "data": {
            "text/plain": [
              "array([9.65, 8.87, 8.  , 8.67, 8.21])"
            ]
          },
          "metadata": {},
          "execution_count": 220
        }
      ]
    },
    {
      "cell_type": "code",
      "metadata": {
        "colab": {
          "base_uri": "https://localhost:8080/"
        },
        "id": "G1xRdfmGFOoc",
        "outputId": "c5d5a69c-1d82-4beb-f437-5737ff61512d"
      },
      "source": [
        "# Dado que el GPA en el conjunto de datos varía de 1 a 10, y en los EE. UU. Es más común usar una escala de hasta 4,\n",
        "# una tarea común podría ser convertir el GPA dividiendo por 10 y luego multiplicando por 4\n",
        "\n",
        "admision['CGPA'] = admision['CGPA']/10*4\n",
        "admision['CGPA'][0:20]\n",
        "\n"
      ],
      "execution_count": null,
      "outputs": [
        {
          "output_type": "execute_result",
          "data": {
            "text/plain": [
              "array([3.86 , 3.548, 3.2  , 3.468, 3.284, 3.736, 3.28 , 3.16 , 3.2  ,\n",
              "       3.44 , 3.36 , 3.6  , 3.64 , 3.2  , 3.28 , 3.32 , 3.48 , 3.2  ,\n",
              "       3.52 , 3.4  ])"
            ]
          },
          "metadata": {},
          "execution_count": 221
        }
      ]
    },
    {
      "cell_type": "code",
      "metadata": {
        "colab": {
          "base_uri": "https://localhost:8080/"
        },
        "id": "y4WyghmxIZpe",
        "outputId": "8205cb83-d2a1-4db6-e404-ed4ab501526b"
      },
      "source": [
        "## Booleano -> Podemos usar esto para averiguar cuántos estudiantes han tenido experiencia en investigación \n",
        "# creando una máscara booleana y pasándola al operador de indexación de matriz\n",
        "\n",
        "print(admision['Research'] == 1)\n",
        "len(admision[admision['Research'] == 1])\n"
      ],
      "execution_count": null,
      "outputs": [
        {
          "output_type": "stream",
          "name": "stdout",
          "text": [
            "[ True  True  True  True False  True  True False False False  True  True\n",
            "  True  True  True False False  True False False  True False  True  True\n",
            "  True  True False  True False False  True  True  True  True  True  True\n",
            " False False False False  True  True  True False  True  True  True False\n",
            "  True  True  True  True  True  True False False False False  True False\n",
            " False False  True  True False False False  True  True  True  True  True\n",
            "  True  True False  True  True False  True False  True  True  True  True\n",
            "  True False False False False  True  True False False  True False False\n",
            " False  True  True  True  True False False False  True  True  True  True\n",
            "  True False False  True  True False  True  True False False False  True\n",
            "  True  True False False False  True  True  True  True  True  True False\n",
            " False False  True  True False  True  True False  True  True  True  True\n",
            "  True  True False  True  True  True  True  True  True False False False\n",
            " False False False False False False False False  True False False False\n",
            "  True False  True  True  True  True  True  True  True False False False\n",
            " False False False False False  True  True  True  True  True  True  True\n",
            "  True  True False  True False False False False  True  True  True  True\n",
            " False False False  True False  True  True  True  True  True  True  True\n",
            "  True  True  True False False False False False False False False False\n",
            " False  True False  True False False  True  True  True  True False False\n",
            " False False  True  True False  True False False  True  True  True False\n",
            "  True  True False False False  True  True  True  True False  True  True\n",
            "  True False False  True False False  True False False  True False  True\n",
            "  True False False False  True  True  True  True  True  True  True  True\n",
            " False False False False False  True  True False False False  True False\n",
            " False False  True  True False  True  True  True False False  True  True\n",
            "  True False False False False False  True  True  True  True False False\n",
            " False  True False False  True False  True  True  True  True  True  True\n",
            " False  True  True  True  True  True False False False False False False\n",
            " False False  True  True  True False False False  True  True False False\n",
            "  True  True  True False  True  True  True False False  True False  True\n",
            "  True  True False False False False False  True  True  True  True False\n",
            "  True  True False False False  True False False  True False  True  True\n",
            "  True  True False  True]\n"
          ]
        },
        {
          "output_type": "execute_result",
          "data": {
            "text/plain": [
              "219"
            ]
          },
          "metadata": {},
          "execution_count": 240
        }
      ]
    },
    {
      "cell_type": "code",
      "metadata": {
        "colab": {
          "base_uri": "https://localhost:8080/"
        },
        "id": "TL-msCqPKN9C",
        "outputId": "2fd18026-2d5f-45f9-993d-e4f4f50d5b29"
      },
      "source": [
        "print('Opcionados con más del 80% \\n',admision[admision['Chance_of_Admit'] > 0.8])\n",
        "print('Matriz Booleana de oportunidades de más del 80% \\n',admision['Chance_of_Admit'] > 0.8)\n",
        "admitidos = len(admision[admision['Chance_of_Admit'] > 0.8])\n",
        "print('Los estudiantes con oportunidad de ser admitidos en el programa son:', admitidos, \n",
        "      'porque tienen un porcentaje superior al 80% ')"
      ],
      "execution_count": null,
      "outputs": [
        {
          "output_type": "stream",
          "name": "stdout",
          "text": [
            "Opcionados con más del 80% \n",
            " [(  1, 337, 118, 4, 4.5, 4.5, 3.86 , 1, 0.92)\n",
            " (  6, 330, 115, 5, 4.5, 3. , 3.736, 1, 0.9 )\n",
            " ( 12, 327, 111, 4, 4. , 4.5, 3.6  , 1, 0.84)\n",
            " ( 23, 328, 116, 5, 5. , 5. , 3.8  , 1, 0.94)\n",
            " ( 24, 334, 119, 5, 5. , 4.5, 3.88 , 1, 0.95)\n",
            " ( 25, 336, 119, 5, 4. , 3.5, 3.92 , 1, 0.97)\n",
            " ( 26, 340, 120, 5, 4.5, 4.5, 3.84 , 1, 0.94)\n",
            " ( 33, 338, 118, 4, 3. , 4.5, 3.76 , 1, 0.91)\n",
            " ( 34, 340, 114, 5, 4. , 4. , 3.84 , 1, 0.9 )\n",
            " ( 35, 331, 112, 5, 4. , 5. , 3.92 , 1, 0.94)\n",
            " ( 36, 320, 110, 5, 5. , 5. , 3.68 , 1, 0.88)\n",
            " ( 44, 332, 117, 4, 4.5, 4. , 3.64 , 0, 0.87)\n",
            " ( 45, 326, 113, 5, 4.5, 4. , 3.76 , 1, 0.91)\n",
            " ( 46, 322, 110, 5, 5. , 4. , 3.64 , 1, 0.88)\n",
            " ( 47, 329, 114, 5, 4. , 5. , 3.72 , 1, 0.86)\n",
            " ( 48, 339, 119, 5, 4.5, 4. , 3.88 , 0, 0.89)\n",
            " ( 49, 321, 110, 3, 3.5, 5. , 3.54 , 1, 0.82)\n",
            " ( 71, 332, 118, 5, 5. , 5. , 3.856, 1, 0.94)\n",
            " ( 72, 336, 112, 5, 5. , 5. , 3.904, 1, 0.96)\n",
            " ( 73, 321, 111, 5, 5. , 5. , 3.78 , 1, 0.93)\n",
            " ( 74, 314, 108, 4, 4.5, 4. , 3.616, 1, 0.84)\n",
            " ( 82, 340, 120, 4, 5. , 5. , 3.8  , 1, 0.96)\n",
            " ( 83, 320, 110, 5, 5. , 4.5, 3.688, 1, 0.92)\n",
            " ( 84, 322, 115, 5, 4. , 4.5, 3.744, 1, 0.92)\n",
            " ( 85, 340, 115, 5, 4.5, 4.5, 3.78 , 1, 0.94)\n",
            " ( 98, 331, 120, 3, 4. , 4. , 3.584, 1, 0.86)\n",
            " ( 99, 332, 119, 4, 5. , 4.5, 3.696, 1, 0.9 )\n",
            " (107, 329, 111, 4, 4.5, 4.5, 3.672, 1, 0.87)\n",
            " (108, 338, 117, 4, 3.5, 4.5, 3.784, 1, 0.91)\n",
            " (109, 331, 116, 5, 5. , 5. , 3.752, 1, 0.93)\n",
            " (121, 335, 117, 5, 5. , 5. , 3.824, 1, 0.94)\n",
            " (122, 334, 119, 5, 4.5, 4.5, 3.792, 1, 0.94)\n",
            " (127, 323, 113, 3, 4. , 3. , 3.728, 1, 0.85)\n",
            " (129, 326, 112, 3, 3.5, 3. , 3.64 , 1, 0.84)\n",
            " (130, 333, 118, 5, 5. , 5. , 3.74 , 1, 0.92)\n",
            " (131, 339, 114, 5, 4. , 4.5, 3.904, 1, 0.96)\n",
            " (135, 333, 113, 5, 4. , 4. , 3.712, 1, 0.89)\n",
            " (136, 314, 109, 4, 3.5, 4. , 3.508, 1, 0.82)\n",
            " (141, 329, 110, 2, 4. , 3. , 3.66 , 1, 0.84)\n",
            " (142, 332, 118, 2, 4.5, 3.5, 3.744, 1, 0.9 )\n",
            " (143, 331, 115, 5, 4. , 3.5, 3.776, 1, 0.92)\n",
            " (144, 340, 120, 4, 4.5, 4. , 3.968, 1, 0.97)\n",
            " (146, 320, 113, 2, 2. , 2.5, 3.456, 1, 0.81)\n",
            " (148, 326, 114, 3, 3. , 3. , 3.644, 1, 0.83)\n",
            " (149, 339, 116, 4, 4. , 3.5, 3.92 , 1, 0.96)\n",
            " (151, 334, 114, 4, 4. , 4. , 3.772, 1, 0.93)\n",
            " (152, 332, 116, 5, 5. , 5. , 3.712, 1, 0.94)\n",
            " (153, 321, 112, 5, 5. , 5. , 3.624, 1, 0.86)\n",
            " (165, 329, 111, 4, 4.5, 4. , 3.604, 1, 0.81)\n",
            " (172, 334, 117, 5, 4. , 4.5, 3.628, 1, 0.89)\n",
            " (173, 322, 110, 4, 4. , 5. , 3.652, 1, 0.86)\n",
            " (174, 323, 113, 4, 4. , 4.5, 3.692, 1, 0.89)\n",
            " (175, 321, 111, 4, 4. , 4. , 3.588, 1, 0.87)\n",
            " (176, 320, 111, 4, 4.5, 3.5, 3.548, 1, 0.85)\n",
            " (177, 329, 119, 4, 4.5, 4.5, 3.664, 1, 0.9 )\n",
            " (178, 319, 110, 3, 3.5, 3.5, 3.616, 0, 0.82)\n",
            " (186, 327, 113, 4, 4.5, 4.5, 3.644, 1, 0.89)\n",
            " (187, 317, 107, 3, 3.5, 3. , 3.472, 1, 0.84)\n",
            " (188, 335, 118, 5, 4.5, 3.5, 3.776, 1, 0.93)\n",
            " (189, 331, 115, 5, 4.5, 3.5, 3.744, 1, 0.93)\n",
            " (190, 324, 112, 5, 5. , 5. , 3.632, 1, 0.88)\n",
            " (191, 324, 111, 5, 4.5, 4. , 3.664, 1, 0.9 )\n",
            " (192, 323, 110, 5, 4. , 5. , 3.592, 1, 0.87)\n",
            " (193, 322, 114, 5, 4.5, 4. , 3.576, 1, 0.86)\n",
            " (194, 336, 118, 5, 4.5, 5. , 3.812, 1, 0.94)\n",
            " (203, 340, 120, 5, 4.5, 4.5, 3.964, 1, 0.97)\n",
            " (204, 334, 120, 5, 4. , 5. , 3.948, 1, 0.97)\n",
            " (212, 328, 110, 4, 5. , 4. , 3.656, 1, 0.82)\n",
            " (213, 338, 120, 4, 5. , 5. , 3.864, 1, 0.95)\n",
            " (214, 333, 119, 5, 5. , 4.5, 3.912, 1, 0.96)\n",
            " (215, 331, 117, 4, 4.5, 5. , 3.768, 1, 0.94)\n",
            " (216, 330, 116, 5, 5. , 4.5, 3.744, 1, 0.93)\n",
            " (217, 322, 112, 4, 4.5, 4.5, 3.704, 1, 0.91)\n",
            " (218, 321, 109, 4, 4. , 4. , 3.652, 1, 0.85)\n",
            " (219, 324, 110, 4, 3. , 3.5, 3.588, 1, 0.84)\n",
            " (230, 324, 111, 4, 3. , 3. , 3.604, 1, 0.82)\n",
            " (235, 330, 113, 5, 5. , 4. , 3.724, 1, 0.91)\n",
            " (236, 326, 111, 5, 4.5, 4. , 3.692, 1, 0.88)\n",
            " (237, 325, 112, 4, 4. , 4.5, 3.668, 1, 0.85)\n",
            " (238, 329, 114, 5, 4.5, 5. , 3.676, 1, 0.86)\n",
            " (246, 328, 110, 4, 4. , 2.5, 3.608, 1, 0.81)\n",
            " (254, 335, 115, 4, 4.5, 4.5, 3.872, 1, 0.93)\n",
            " (255, 321, 114, 4, 4. , 5. , 3.648, 0, 0.85)\n",
            " (260, 331, 119, 4, 5. , 4.5, 3.736, 1, 0.9 )\n",
            " (261, 327, 108, 5, 5. , 3.5, 3.652, 1, 0.87)\n",
            " (269, 327, 113, 4, 4.5, 5. , 3.656, 0, 0.83)\n",
            " (277, 329, 113, 5, 5. , 4.5, 3.78 , 1, 0.89)\n",
            " (283, 312, 106, 3, 4. , 3.5, 3.516, 1, 0.81)\n",
            " (285, 340, 112, 4, 5. , 4.5, 3.864, 1, 0.94)\n",
            " (286, 331, 116, 5, 4. , 4. , 3.704, 1, 0.93)\n",
            " (287, 336, 118, 5, 4.5, 4. , 3.676, 1, 0.92)\n",
            " (288, 324, 114, 5, 5. , 4.5, 3.632, 1, 0.89)\n",
            " (289, 314, 104, 4, 5. , 5. , 3.608, 0, 0.82)\n",
            " (298, 320, 120, 3, 4. , 4.5, 3.644, 0, 0.86)\n",
            " (299, 330, 114, 3, 4.5, 4.5, 3.696, 1, 0.9 )\n",
            " (312, 328, 108, 4, 4.5, 4. , 3.672, 1, 0.84)\n",
            " (326, 326, 116, 3, 3.5, 4. , 3.656, 1, 0.81)\n",
            " (336, 325, 111, 4, 4. , 4.5, 3.644, 1, 0.83)\n",
            " (338, 332, 118, 5, 5. , 5. , 3.788, 1, 0.94)\n",
            " (339, 323, 108, 5, 4. , 4. , 3.496, 1, 0.81)\n",
            " (340, 324, 107, 5, 3.5, 4. , 3.464, 1, 0.81)\n",
            " (360, 321, 107, 2, 2. , 1.5, 3.376, 0, 0.81)\n",
            " (361, 322, 110, 3, 4. , 5. , 3.456, 1, 0.85)\n",
            " (362, 334, 116, 4, 4. , 3.5, 3.816, 1, 0.93)\n",
            " (363, 338, 115, 5, 4.5, 5. , 3.692, 1, 0.91)\n",
            " (366, 330, 114, 4, 4.5, 3. , 3.668, 1, 0.86)\n",
            " (372, 324, 110, 3, 3.5, 3. , 3.688, 1, 0.89)\n",
            " (373, 336, 119, 4, 4.5, 4. , 3.848, 1, 0.95)\n",
            " (383, 324, 110, 4, 4.5, 4. , 3.66 , 1, 0.82)\n",
            " (385, 340, 113, 4, 5. , 5. , 3.896, 1, 0.96)\n",
            " (386, 335, 117, 5, 5. , 5. , 3.928, 1, 0.96)\n",
            " (393, 326, 112, 4, 4. , 3.5, 3.648, 1, 0.84)\n",
            " (395, 329, 111, 4, 4.5, 4. , 3.692, 1, 0.89)\n",
            " (396, 324, 110, 3, 3.5, 3.5, 3.616, 1, 0.82)\n",
            " (397, 325, 107, 3, 3. , 3.5, 3.644, 1, 0.84)\n",
            " (398, 330, 116, 4, 5. , 4.5, 3.78 , 1, 0.91)\n",
            " (400, 333, 117, 4, 5. , 4. , 3.864, 1, 0.95)]\n",
            "Matriz Booleana de oportunidades de más del 80% \n",
            " [ True False False False False  True False False False False False  True\n",
            " False False False False False False False False False False  True  True\n",
            "  True  True False False False False False False  True  True  True  True\n",
            " False False False False False False False  True  True  True  True  True\n",
            "  True False False False False False False False False False False False\n",
            " False False False False False False False False False False  True  True\n",
            "  True  True False False False False False False False  True  True  True\n",
            "  True False False False False False False False False False False False\n",
            " False  True  True False False False False False False False  True  True\n",
            "  True False False False False False False False False False False False\n",
            "  True  True False False False False  True False  True  True  True False\n",
            " False False  True  True False False False False  True  True  True  True\n",
            " False  True False  True  True False  True  True  True False False False\n",
            " False False False False False False False False  True False False False\n",
            " False False False  True  True  True  True  True  True  True False False\n",
            " False False False False False  True  True  True  True  True  True  True\n",
            "  True  True False False False False False False False False  True  True\n",
            " False False False False False False False  True  True  True  True  True\n",
            "  True  True  True False False False False False False False False False\n",
            " False  True False False False False  True  True  True  True False False\n",
            " False False False False False  True False False False False False False\n",
            " False  True  True False False False False  True  True False False False\n",
            " False False False False  True False False False False False False False\n",
            "  True False False False False False  True False  True  True  True  True\n",
            "  True False False False False False False False False  True  True False\n",
            " False False False False False False False False False False False  True\n",
            " False False False False False False False False False False False False\n",
            " False  True False False False False False False False False False  True\n",
            " False  True  True  True False False False False False False False False\n",
            " False False False False False False False False False False False  True\n",
            "  True  True  True False False  True False False False False False  True\n",
            "  True False False False False False False False False False  True False\n",
            "  True  True False False False False False False  True False  True  True\n",
            "  True  True False  True]\n",
            "Los estudiantes con oportunidad de ser admitidos en el programa son: 117 porque tienen un porcentaje superior al 80% \n"
          ]
        }
      ]
    },
    {
      "cell_type": "code",
      "metadata": {
        "colab": {
          "base_uri": "https://localhost:8080/"
        },
        "id": "gTBJhGtILlfX",
        "outputId": "bfb03744-8e0a-4544-f5d1-8c7717187dc5"
      },
      "source": [
        "print('Opcionados con menos del 40% \\n',admision[admision['Chance_of_Admit'] < 0.4])\n",
        "print('Matriz Booleana de oportunidades de menos del 40% \\n',admision['Chance_of_Admit'] < 0.4)\n",
        "noadmitidos = len(admision[admision['Chance_of_Admit'] < 0.4])\n",
        "print('Los estudiantes sin oportunidad de ser admitidos en el programa son:', noadmitidos, \n",
        "      'porque tienen un porcentaje inferior al 40% ')"
      ],
      "execution_count": null,
      "outputs": [
        {
          "output_type": "stream",
          "name": "stdout",
          "text": [
            "Opcionados con menos del 40% \n",
            " [( 59, 300,  99, 1, 3. , 2. , 2.72 , 1, 0.36)\n",
            " ( 92, 299,  97, 3, 5. , 3.5, 3.064, 0, 0.38)\n",
            " ( 93, 298,  98, 2, 4. , 3. , 3.212, 0, 0.34)\n",
            " ( 95, 303,  99, 3, 2. , 2.5, 3.064, 0, 0.36)\n",
            " (375, 315, 105, 2, 2. , 2.5, 3.06 , 0, 0.39)\n",
            " (376, 304, 101, 2, 2. , 2.5, 3.064, 0, 0.38)\n",
            " (377, 297,  96, 2, 2.5, 2. , 2.972, 0, 0.34)]\n",
            "Matriz Booleana de oportunidades de menos del 40% \n",
            " [False False False False False False False False False False False False\n",
            " False False False False False False False False False False False False\n",
            " False False False False False False False False False False False False\n",
            " False False False False False False False False False False False False\n",
            " False False False False False False False False False False  True False\n",
            " False False False False False False False False False False False False\n",
            " False False False False False False False False False False False False\n",
            " False False False False False False False  True  True False  True False\n",
            " False False False False False False False False False False False False\n",
            " False False False False False False False False False False False False\n",
            " False False False False False False False False False False False False\n",
            " False False False False False False False False False False False False\n",
            " False False False False False False False False False False False False\n",
            " False False False False False False False False False False False False\n",
            " False False False False False False False False False False False False\n",
            " False False False False False False False False False False False False\n",
            " False False False False False False False False False False False False\n",
            " False False False False False False False False False False False False\n",
            " False False False False False False False False False False False False\n",
            " False False False False False False False False False False False False\n",
            " False False False False False False False False False False False False\n",
            " False False False False False False False False False False False False\n",
            " False False False False False False False False False False False False\n",
            " False False False False False False False False False False False False\n",
            " False False False False False False False False False False False False\n",
            " False False False False False False False False False False False False\n",
            " False False False False False False False False False False False False\n",
            " False False False False False False False False False False False False\n",
            " False False False False False False False False False False False False\n",
            " False False False False False False False False False False False False\n",
            " False False False False False False False False False False False False\n",
            " False False  True  True  True False False False False False False False\n",
            " False False False False False False False False False False False False\n",
            " False False False False]\n",
            "Los estudiantes sin oportunidad de ser admitidos en el programa son: 7 porque tienen un porcentaje inferior al 40% \n"
          ]
        }
      ]
    },
    {
      "cell_type": "code",
      "metadata": {
        "colab": {
          "base_uri": "https://localhost:8080/"
        },
        "id": "_Gr9OkL5M19x",
        "outputId": "c1631ccd-cad7-456c-fb88-a5b1324d6bc8"
      },
      "source": [
        "## Para saber los promedios de puntuación de los admitidos y de los no admitidos \n",
        "\n",
        "Puntajesup = admision[admision['Chance_of_Admit']>0.8]['GRE_Score']   ## \n",
        "Puntajemin = admision[admision['Chance_of_Admit']<0.4]['GRE_Score']\n",
        "\n",
        "print(Puntajesup)\n",
        "print(Puntajemin)\n",
        "\n",
        "print('El promedio de puntaje de admisión >80% ', Puntajesup.mean())\n",
        "print('El promedio de puntaje de no admisión <40% ', Puntajemin.mean())"
      ],
      "execution_count": null,
      "outputs": [
        {
          "output_type": "stream",
          "name": "stdout",
          "text": [
            "[337 330 327 328 334 336 340 338 340 331 320 332 326 322 329 339 321 332\n",
            " 336 321 314 340 320 322 340 331 332 329 338 331 335 334 323 326 333 339\n",
            " 333 314 329 332 331 340 320 326 339 334 332 321 329 334 322 323 321 320\n",
            " 329 319 327 317 335 331 324 324 323 322 336 340 334 328 338 333 331 330\n",
            " 322 321 324 324 330 326 325 329 328 335 321 331 327 327 329 312 340 331\n",
            " 336 324 314 320 330 328 326 325 332 323 324 321 322 334 338 330 324 336\n",
            " 324 340 335 326 329 324 325 330 333]\n",
            "[300 299 298 303 315 304 297]\n",
            "El promedio de puntaje de admisión >80%  328.7350427350427\n",
            "El promedio de puntaje de no admisión <40%  302.2857142857143\n"
          ]
        }
      ]
    }
  ]
}